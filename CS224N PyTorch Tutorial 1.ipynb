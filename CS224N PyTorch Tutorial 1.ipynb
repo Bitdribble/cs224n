{
  "cells": [
    {
      "cell_type": "markdown",
      "metadata": {
        "id": "view-in-github",
        "colab_type": "text"
      },
      "source": [
        "<a href=\"https://colab.research.google.com/github/Bitdribble/cs224n/blob/main/CS224N%20PyTorch%20Tutorial%201.ipynb\" target=\"_parent\"><img src=\"https://colab.research.google.com/assets/colab-badge.svg\" alt=\"Open In Colab\"/></a>"
      ]
    },
    {
      "cell_type": "markdown",
      "id": "perceived-donor",
      "metadata": {
        "id": "perceived-donor"
      },
      "source": [
        "# CS224N: PyTorch Tutorial (Winter '21)\n",
        "\n",
        "Author: Dilara Soylu\n",
        "\n",
        "In this notebook, we will have a basic introduction to PyTorch and work on a toy NLP task. Following resources have been used in preparation of this notebook:\n",
        "\n",
        "* [Word Window Classification](https://web.stanford.edu/class/cs224n/materials/(https://web.stanford.edu/class/archive/cs/cs224n/cs224n.1204/materials/ww_classifier.ipynb) tutorial notebook by Matt Lamm, from Winter 2020 offering of CS224N\n",
        "* Official PyTorch Documentation on [Deep Learning with PyTorch: A 60 Minute Blitz](https://pytorch.org/tutorials/beginner/deep_learning_60min_blitz.html) by Soumith Chintala\n",
        "* PyTorch Tutorial Notebook, [Build Basic Generative Adversarial Networks (GANs) | Coursera](https://www.coursera.org/learn/build-basic-generative-adversarial-networks-gans) by Sharon Zhou, offered on Coursera\n",
        "\n",
        "Many thanks to Angelica Sun and John Hewitt for their feedback."
      ]
    },
    {
      "cell_type": "markdown",
      "id": "static-african",
      "metadata": {
        "id": "static-african"
      },
      "source": [
        "## Introduction\n",
        "[PyTorch](https://pytorch.org/) is a machine learning framework that is used in both academia and industry for various applications. PyTorch started of as a more flexible alternative to [TensorFlow](https://www.tensorflow.org/), which is another popular machine learning framework. At the time of its release, `PyTorch` appealed to the users due to its user friendly nature: as opposed to defining static graphs before performing an operation as in `TensorFlow`, `PyTorch` allowed users to define their operations as they go, which is also the approached integrated by `TensorFlow` in its following releases. Although `TensorFlow` is more widely preferred in the industry, `PyTorch` is often times the preferred machine learning framework for researchers. \n",
        "\n",
        "Now that we have learned enough about the background of `PyTorch`, let's start by importing it into our notebook. To install `PyTorch`, you can follow the instructions here. Alternatively, you can open this notebook using `Google Colab`, which already has `PyTorch` installed in its base kernel. Once you are done with the installation process, run the following cell:"
      ]
    },
    {
      "cell_type": "code",
      "execution_count": null,
      "id": "hindu-wales",
      "metadata": {
        "id": "hindu-wales"
      },
      "outputs": [],
      "source": [
        "import torch\n",
        "import torch.nn as nn\n",
        "\n",
        "# Import pprint, module we use for making our print statements prettier\n",
        "import pprint\n",
        "pp = pprint.PrettyPrinter()"
      ]
    },
    {
      "cell_type": "markdown",
      "id": "adjacent-hearing",
      "metadata": {
        "id": "adjacent-hearing"
      },
      "source": [
        "We are all set to start our tutorial. Let's dive in!"
      ]
    },
    {
      "cell_type": "markdown",
      "source": [
        "# Tensors\n",
        "Tensors are the most basic building blocks in `PyTorch`. Tensors are similar to matrices, but the have extra properties and they can represent higher dimensions. For example, an square image with 256 pixels in both sides can be represented by a `3x256x256` tensor, where the first 3 dimensions represent the color channels, red, green and blue.\n",
        "\n",
        "## Tensor Initialization\n",
        "\n",
        "There are several ways to instantiate tensors in `PyTorch`, which we will go through next.\n",
        "\n",
        "### From a Python List\n",
        "\n",
        "We can initalize a tensor from a `Python` list, which could include sublists. The dimensions and the data types will be automatically inferred by `PyTorch` when we use `torch.tensor()`.\n",
        "\n"
      ],
      "metadata": {
        "id": "RL1gE6Esvqxh"
      },
      "id": "RL1gE6Esvqxh"
    },
    {
      "cell_type": "code",
      "source": [
        "# Initialize a tensor from a Python List\n",
        "data = [\n",
        "        [0, 1], \n",
        "        [2, 3],\n",
        "        [4, 5]\n",
        "       ]\n",
        "x_python = torch.tensor(data)\n",
        "\n",
        "# Print the tensor\n",
        "x_python"
      ],
      "metadata": {
        "colab": {
          "base_uri": "https://localhost:8080/"
        },
        "id": "Ydv-uB0EwNKg",
        "outputId": "496dc5f5-61c9-4f56-963f-a8d5fdc1ecb0"
      },
      "id": "Ydv-uB0EwNKg",
      "execution_count": 3,
      "outputs": [
        {
          "output_type": "execute_result",
          "data": {
            "text/plain": [
              "tensor([[0, 1],\n",
              "        [2, 3],\n",
              "        [4, 5]])"
            ]
          },
          "metadata": {},
          "execution_count": 3
        }
      ]
    },
    {
      "cell_type": "markdown",
      "source": [
        "We can also call `torch.tensor()` with the optional `dtype` parameter, which will set the data type. Some useful datatypes to be familiar with are: `torch.bool`, `torch.float`, and `torch.long`."
      ],
      "metadata": {
        "id": "W9ADRDOYwaUU"
      },
      "id": "W9ADRDOYwaUU"
    },
    {
      "cell_type": "code",
      "source": [
        "# We are using the dtype to create a tensor of particular type\n",
        "x_float = torch.tensor(data, dtype=torch.float)\n",
        "x_float"
      ],
      "metadata": {
        "colab": {
          "base_uri": "https://localhost:8080/"
        },
        "id": "CdLNaxp7wZ1o",
        "outputId": "0370f80c-dcc5-442c-b357-86e36694af92"
      },
      "id": "CdLNaxp7wZ1o",
      "execution_count": 4,
      "outputs": [
        {
          "output_type": "execute_result",
          "data": {
            "text/plain": [
              "tensor([[0., 1.],\n",
              "        [2., 3.],\n",
              "        [4., 5.]])"
            ]
          },
          "metadata": {},
          "execution_count": 4
        }
      ]
    },
    {
      "cell_type": "code",
      "source": [
        "# We are using the dtype to create a tensor of particular type\n",
        "x_bool = torch.tensor(data, dtype=torch.bool)\n",
        "x_bool"
      ],
      "metadata": {
        "colab": {
          "base_uri": "https://localhost:8080/"
        },
        "id": "QcVlGoUfxCR5",
        "outputId": "d889ac80-7431-415c-b08e-0dd979268209"
      },
      "id": "QcVlGoUfxCR5",
      "execution_count": 5,
      "outputs": [
        {
          "output_type": "execute_result",
          "data": {
            "text/plain": [
              "tensor([[False,  True],\n",
              "        [ True,  True],\n",
              "        [ True,  True]])"
            ]
          },
          "metadata": {},
          "execution_count": 5
        }
      ]
    },
    {
      "cell_type": "markdown",
      "source": [
        "We can also get the same tensor in our specified data type using methods such as `float()`, `long()` etc.\n"
      ],
      "metadata": {
        "id": "ufU9ifg-xFEE"
      },
      "id": "ufU9ifg-xFEE"
    },
    {
      "cell_type": "code",
      "source": [
        "x_python.float()"
      ],
      "metadata": {
        "colab": {
          "base_uri": "https://localhost:8080/"
        },
        "id": "ShBsOI2KxKNd",
        "outputId": "9e74ce29-7f90-4db7-dfab-a5043549d472"
      },
      "id": "ShBsOI2KxKNd",
      "execution_count": 6,
      "outputs": [
        {
          "output_type": "execute_result",
          "data": {
            "text/plain": [
              "tensor([[0., 1.],\n",
              "        [2., 3.],\n",
              "        [4., 5.]])"
            ]
          },
          "metadata": {},
          "execution_count": 6
        }
      ]
    },
    {
      "cell_type": "markdown",
      "source": [
        "We can also use `tensor.FloatTensor`, `tensor.LongTensor`, `tensor.Tensor` classes to instantiate a tensor of particular type. `LongTensors` are particularly important in NLP as many methods that deal with indices require the indices to be passed as a `LongTensor`, which is a 64 bit integer."
      ],
      "metadata": {
        "id": "GaKsaYAmxRwX"
      },
      "id": "GaKsaYAmxRwX"
    },
    {
      "cell_type": "code",
      "source": [
        "# `torch.Tensor` defaults to float\n",
        "# Same as torch.FloatTensor(data)\n",
        "x = torch.Tensor(data) \n",
        "x\n"
      ],
      "metadata": {
        "colab": {
          "base_uri": "https://localhost:8080/"
        },
        "id": "9obQghdaxav1",
        "outputId": "a22e6345-1527-4060-f3bd-467b2df9ee40"
      },
      "id": "9obQghdaxav1",
      "execution_count": 7,
      "outputs": [
        {
          "output_type": "execute_result",
          "data": {
            "text/plain": [
              "tensor([[0., 1.],\n",
              "        [2., 3.],\n",
              "        [4., 5.]])"
            ]
          },
          "metadata": {},
          "execution_count": 7
        }
      ]
    },
    {
      "cell_type": "markdown",
      "source": [
        "### From a NumPy Array\n",
        "\n",
        "We can also initialize a tensor from a `NumPy` array.\n"
      ],
      "metadata": {
        "id": "PWW69PNBxqKY"
      },
      "id": "PWW69PNBxqKY"
    },
    {
      "cell_type": "code",
      "source": [
        "import numpy as np\n",
        "\n",
        "# Initialize a tensor from a NumPy array\n",
        "ndarray = np.array(data)\n",
        "x_numpy = torch.from_numpy(ndarray)\n",
        "\n",
        "# Print the tensor\n",
        "x_numpy"
      ],
      "metadata": {
        "colab": {
          "base_uri": "https://localhost:8080/"
        },
        "id": "ZqZiTdGdxwAA",
        "outputId": "462801a0-2f42-46b5-c0ba-0e5d218886e5"
      },
      "id": "ZqZiTdGdxwAA",
      "execution_count": 8,
      "outputs": [
        {
          "output_type": "execute_result",
          "data": {
            "text/plain": [
              "tensor([[0, 1],\n",
              "        [2, 3],\n",
              "        [4, 5]])"
            ]
          },
          "metadata": {},
          "execution_count": 8
        }
      ]
    },
    {
      "cell_type": "markdown",
      "source": [
        "### From a Tensor\n",
        "\n",
        "We can also initialize a tensor from another tensor, using the following methods:\n",
        "\n",
        "* `torch.ones_like(old_tensor)`: Initializes a tensor of 1s.\n",
        "* `torch.zeros_like(old_tensor)`: Initializes a tensor of 0s.\n",
        "* `torch.rand_like(old_tensor)`: Initializes a tensor where all the elements are sampled from a uniform distribution between 0 and 1.\n",
        "* `torch.randn_like(old_tensor)`: Initializes a tensor where all the elements are sampled from a normal distribution.\n",
        "\n",
        "All of these methods preserve the tensor properties of the original tensor passed in, such as the shape and device, which we will cover in a bit.\n"
      ],
      "metadata": {
        "id": "bpA0rqdMx21A"
      },
      "id": "bpA0rqdMx21A"
    },
    {
      "cell_type": "code",
      "source": [
        "# Initialize a base tensor\n",
        "x = torch.tensor([[1., 2.], [3., 4.]])\n",
        "x"
      ],
      "metadata": {
        "colab": {
          "base_uri": "https://localhost:8080/"
        },
        "id": "80racMnux15m",
        "outputId": "9cebf356-2141-481f-f3b0-bcb9c6bf6eac"
      },
      "id": "80racMnux15m",
      "execution_count": 9,
      "outputs": [
        {
          "output_type": "execute_result",
          "data": {
            "text/plain": [
              "tensor([[1., 2.],\n",
              "        [3., 4.]])"
            ]
          },
          "metadata": {},
          "execution_count": 9
        }
      ]
    },
    {
      "cell_type": "code",
      "source": [
        "# Initialize a tensor of 0s\n",
        "x_zeros = torch.zeros_like(x)\n",
        "x_zeros"
      ],
      "metadata": {
        "colab": {
          "base_uri": "https://localhost:8080/"
        },
        "id": "Io-_JxXLyIZu",
        "outputId": "ccd210da-bdaf-4877-9580-9aa0bec4703d"
      },
      "id": "Io-_JxXLyIZu",
      "execution_count": 10,
      "outputs": [
        {
          "output_type": "execute_result",
          "data": {
            "text/plain": [
              "tensor([[0., 0.],\n",
              "        [0., 0.]])"
            ]
          },
          "metadata": {},
          "execution_count": 10
        }
      ]
    },
    {
      "cell_type": "code",
      "source": [
        "# Initialize a tensor of 1s\n",
        "x_ones = torch.ones_like(x)\n",
        "x_ones"
      ],
      "metadata": {
        "colab": {
          "base_uri": "https://localhost:8080/"
        },
        "id": "QMp3wyilyLNN",
        "outputId": "ec818563-f697-4540-94f4-4a6cb9e356a5"
      },
      "id": "QMp3wyilyLNN",
      "execution_count": 11,
      "outputs": [
        {
          "output_type": "execute_result",
          "data": {
            "text/plain": [
              "tensor([[1., 1.],\n",
              "        [1., 1.]])"
            ]
          },
          "metadata": {},
          "execution_count": 11
        }
      ]
    },
    {
      "cell_type": "code",
      "source": [
        "# Initialize a tensor where each element is sampled from a uniform distribution\n",
        "# between 0 and 1\n",
        "x_rand = torch.rand_like(x)\n",
        "x_rand"
      ],
      "metadata": {
        "colab": {
          "base_uri": "https://localhost:8080/"
        },
        "id": "ivIvo-MgyOeF",
        "outputId": "64a8c447-90bc-46f5-a00f-21e86b346f34"
      },
      "id": "ivIvo-MgyOeF",
      "execution_count": 12,
      "outputs": [
        {
          "output_type": "execute_result",
          "data": {
            "text/plain": [
              "tensor([[0.3386, 0.0887],\n",
              "        [0.6176, 0.8548]])"
            ]
          },
          "metadata": {},
          "execution_count": 12
        }
      ]
    },
    {
      "cell_type": "code",
      "source": [
        "# Initialize a tensor where each element is sampled from a normal distribution\n",
        "x_randn = torch.randn_like(x)\n",
        "x_randn"
      ],
      "metadata": {
        "colab": {
          "base_uri": "https://localhost:8080/"
        },
        "id": "Pt2yxHrHyPeJ",
        "outputId": "37ec01d2-cc29-4bd5-a46c-db0c74eaec96"
      },
      "id": "Pt2yxHrHyPeJ",
      "execution_count": 13,
      "outputs": [
        {
          "output_type": "execute_result",
          "data": {
            "text/plain": [
              "tensor([[-1.0035, -0.6282],\n",
              "        [-0.5455,  1.5023]])"
            ]
          },
          "metadata": {},
          "execution_count": 13
        }
      ]
    },
    {
      "cell_type": "markdown",
      "source": [
        "### By Specifying a Shape\n",
        "\n",
        "We can also instantiate tensors by specifying their shapes (which we will cover in more detail in a bit). The methods we could use follow the ones in the previous section:\n",
        "\n",
        "* `torch.zeros()`\n",
        "* `torch.ones()`\n",
        "* `torch.rand()`\n",
        "* `torch.randn()`"
      ],
      "metadata": {
        "id": "JJqOu9l-yZRt"
      },
      "id": "JJqOu9l-yZRt"
    },
    {
      "cell_type": "code",
      "source": [
        "# Initialize a 2x3x2 tensor of 0s\n",
        "shape = (4, 2, 2)\n",
        "x_zeros = torch.zeros(shape) # x_zeros = torch.zeros(4, 3, 2) is an alternative\n",
        "x_zeros"
      ],
      "metadata": {
        "colab": {
          "base_uri": "https://localhost:8080/"
        },
        "id": "ggaIEp1vyTm5",
        "outputId": "380f1541-d7b2-456b-9e2f-73be95bb335b"
      },
      "id": "ggaIEp1vyTm5",
      "execution_count": 14,
      "outputs": [
        {
          "output_type": "execute_result",
          "data": {
            "text/plain": [
              "tensor([[[0., 0.],\n",
              "         [0., 0.]],\n",
              "\n",
              "        [[0., 0.],\n",
              "         [0., 0.]],\n",
              "\n",
              "        [[0., 0.],\n",
              "         [0., 0.]],\n",
              "\n",
              "        [[0., 0.],\n",
              "         [0., 0.]]])"
            ]
          },
          "metadata": {},
          "execution_count": 14
        }
      ]
    },
    {
      "cell_type": "markdown",
      "source": [
        "### With torch.arange()\n",
        "\n",
        "We can also create a tensor `with torch.arange(end)`, which returns a 1-D tensor with elements ranging from `0` to `end-1`. We can use the optional start and step parameters to create tensors with different ranges.\n"
      ],
      "metadata": {
        "id": "SF9waHgjypNS"
      },
      "id": "SF9waHgjypNS"
    },
    {
      "cell_type": "code",
      "source": [
        "# Create a tensor with values 0-9\n",
        "x = torch.arange(10)\n",
        "x"
      ],
      "metadata": {
        "colab": {
          "base_uri": "https://localhost:8080/"
        },
        "id": "eeJNV7t0ykU5",
        "outputId": "028a5ab6-0bc4-4c77-97eb-647fd90d4af8"
      },
      "id": "eeJNV7t0ykU5",
      "execution_count": 15,
      "outputs": [
        {
          "output_type": "execute_result",
          "data": {
            "text/plain": [
              "tensor([0, 1, 2, 3, 4, 5, 6, 7, 8, 9])"
            ]
          },
          "metadata": {},
          "execution_count": 15
        }
      ]
    },
    {
      "cell_type": "markdown",
      "source": [
        "## Tensor Properties\n",
        "\n",
        "Tensors have a few properties that are important for us to cover. These are namely shape, and the device properties.\n",
        "\n",
        "### Data Type\n",
        "\n",
        "The `dtype` property lets us see the data type of a tensor.\n"
      ],
      "metadata": {
        "id": "7QdI-QD9y6GB"
      },
      "id": "7QdI-QD9y6GB"
    },
    {
      "cell_type": "code",
      "source": [
        "# Initialize a 3x2 tensor, with 3 rows and 2 columns\n",
        "x = torch.ones(3, 2)\n",
        "x.dtype"
      ],
      "metadata": {
        "colab": {
          "base_uri": "https://localhost:8080/"
        },
        "id": "v_cf5ODay2Dn",
        "outputId": "f769eb58-8b10-4b96-d72d-c1c73b7d0dfd"
      },
      "id": "v_cf5ODay2Dn",
      "execution_count": 16,
      "outputs": [
        {
          "output_type": "execute_result",
          "data": {
            "text/plain": [
              "torch.float32"
            ]
          },
          "metadata": {},
          "execution_count": 16
        }
      ]
    },
    {
      "cell_type": "markdown",
      "source": [
        "### Shape\n",
        "\n",
        "The `shape` property tells us the shape of our tensor. This can help us identify how many dimensional our tensor is as well as how many elements exist in each dimension.\n"
      ],
      "metadata": {
        "id": "aMP7hU9WzEk1"
      },
      "id": "aMP7hU9WzEk1"
    },
    {
      "cell_type": "code",
      "source": [
        "# Initialize a 3x2 tensor, with 3 rows and 2 columns\n",
        "x = torch.Tensor([[1, 2], [3, 4], [5, 6]])\n",
        "x"
      ],
      "metadata": {
        "colab": {
          "base_uri": "https://localhost:8080/"
        },
        "id": "b5N8scDJzB7B",
        "outputId": "3ce09e6d-74af-44bf-b9af-7826568d5970"
      },
      "id": "b5N8scDJzB7B",
      "execution_count": 17,
      "outputs": [
        {
          "output_type": "execute_result",
          "data": {
            "text/plain": [
              "tensor([[1., 2.],\n",
              "        [3., 4.],\n",
              "        [5., 6.]])"
            ]
          },
          "metadata": {},
          "execution_count": 17
        }
      ]
    },
    {
      "cell_type": "code",
      "source": [
        "# Print out its shape\n",
        "# Same as x.size()\n",
        "x.shape "
      ],
      "metadata": {
        "colab": {
          "base_uri": "https://localhost:8080/"
        },
        "id": "-4_6YuQSzKvn",
        "outputId": "91a67eca-65bc-44d1-ca03-e63bb2ed5884"
      },
      "id": "-4_6YuQSzKvn",
      "execution_count": 18,
      "outputs": [
        {
          "output_type": "execute_result",
          "data": {
            "text/plain": [
              "torch.Size([3, 2])"
            ]
          },
          "metadata": {},
          "execution_count": 18
        }
      ]
    },
    {
      "cell_type": "code",
      "source": [
        "# Print out the number of elements in a particular dimension\n",
        "# 0th dimension corresponds to the rows\n",
        "x.shape[0]"
      ],
      "metadata": {
        "colab": {
          "base_uri": "https://localhost:8080/"
        },
        "id": "qexAojPyzNI6",
        "outputId": "0b603b32-c4e9-4db0-e450-54f6f88f0c91"
      },
      "id": "qexAojPyzNI6",
      "execution_count": 19,
      "outputs": [
        {
          "output_type": "execute_result",
          "data": {
            "text/plain": [
              "3"
            ]
          },
          "metadata": {},
          "execution_count": 19
        }
      ]
    },
    {
      "cell_type": "markdown",
      "source": [
        "We can change the shape of a tensor with the `view()` method."
      ],
      "metadata": {
        "id": "5H0x2OsbzVQS"
      },
      "id": "5H0x2OsbzVQS"
    },
    {
      "cell_type": "code",
      "source": [
        "# Example use of view()\n",
        "# x_view shares the same memory as x, so changing one changes the other\n",
        "x_view = x.view(3, 2)\n",
        "x_view"
      ],
      "metadata": {
        "colab": {
          "base_uri": "https://localhost:8080/"
        },
        "id": "2YKOaJeTzQyI",
        "outputId": "f359772a-f5d3-4e18-b774-c1b08a0f94b4"
      },
      "id": "2YKOaJeTzQyI",
      "execution_count": 20,
      "outputs": [
        {
          "output_type": "execute_result",
          "data": {
            "text/plain": [
              "tensor([[1., 2.],\n",
              "        [3., 4.],\n",
              "        [5., 6.]])"
            ]
          },
          "metadata": {},
          "execution_count": 20
        }
      ]
    },
    {
      "cell_type": "code",
      "source": [
        "# We can ask PyTorch to infer the size of a dimension with -1\n",
        "x_view = x.view(-1, 3)\n",
        "x_view"
      ],
      "metadata": {
        "colab": {
          "base_uri": "https://localhost:8080/"
        },
        "id": "1rEx1oeMzbqt",
        "outputId": "104c0537-ea99-4eef-f314-1eab477c19e2"
      },
      "id": "1rEx1oeMzbqt",
      "execution_count": 21,
      "outputs": [
        {
          "output_type": "execute_result",
          "data": {
            "text/plain": [
              "tensor([[1., 2., 3.],\n",
              "        [4., 5., 6.]])"
            ]
          },
          "metadata": {},
          "execution_count": 21
        }
      ]
    },
    {
      "cell_type": "markdown",
      "source": [
        "We can also use `torch.reshape()` method for a similar purpose. There is a subtle difference between `reshape()` and `view()`: `view()` requires the data to be stored contiguously in the memory. You can refer to this StackOverflow answer for more information. In simple terms, contiguous means that the way our data is laid out in the memory is the same as the way we would read elements from it. This happens because some methods, such as `transpose()` and `view()`, do not actually change how our data is stored in the memory. They just change the meta information about out tensor, so that when we use it we will see the elements in the order we expect.\n",
        "\n",
        "`reshape()` calls `view()` internally if the data is stored contiguously, if not, it returns a copy. The difference here isn't too important for basic tensors, but if you perform operations that make the underlying storage of the data non-contiguous (such as taking a `transpose`), you will have issues using `view()`. If you would like to match the way your tensor is stored in the memory to how it is used, you can use the `contiguous()` method.\n"
      ],
      "metadata": {
        "id": "3afORlMazu9c"
      },
      "id": "3afORlMazu9c"
    },
    {
      "cell_type": "code",
      "source": [
        "# Change the shape of x to be 3x2\n",
        "# x_reshaped could be a reference to or copy of x\n",
        "x_reshaped = torch.reshape(x, (2, 3))\n",
        "x_reshaped"
      ],
      "metadata": {
        "colab": {
          "base_uri": "https://localhost:8080/"
        },
        "id": "Ciq-uDGL0BSU",
        "outputId": "662dad27-6a7c-492e-a864-e52b65f394ab"
      },
      "id": "Ciq-uDGL0BSU",
      "execution_count": 22,
      "outputs": [
        {
          "output_type": "execute_result",
          "data": {
            "text/plain": [
              "tensor([[1., 2., 3.],\n",
              "        [4., 5., 6.]])"
            ]
          },
          "metadata": {},
          "execution_count": 22
        }
      ]
    },
    {
      "cell_type": "markdown",
      "source": [
        "We can use `torch.unsqueeze(x, dim)` function to add a dimension of size `1` to the provided `dim`, where `x` is the tensor. We can also use the corresponding use `torch.squeeze(x)`, which removes the dimensions of size `1`."
      ],
      "metadata": {
        "id": "ASybvm6y0JBg"
      },
      "id": "ASybvm6y0JBg"
    },
    {
      "cell_type": "code",
      "source": [
        "# Initialize a 5x2 tensor, with 5 rows and 2 columns\n",
        "x = torch.arange(10).reshape(5, 2)\n",
        "x"
      ],
      "metadata": {
        "colab": {
          "base_uri": "https://localhost:8080/"
        },
        "id": "MLJ7dGe30B6_",
        "outputId": "07ba3e1b-905c-4aef-f335-b3f242bfcac2"
      },
      "id": "MLJ7dGe30B6_",
      "execution_count": 23,
      "outputs": [
        {
          "output_type": "execute_result",
          "data": {
            "text/plain": [
              "tensor([[0, 1],\n",
              "        [2, 3],\n",
              "        [4, 5],\n",
              "        [6, 7],\n",
              "        [8, 9]])"
            ]
          },
          "metadata": {},
          "execution_count": 23
        }
      ]
    },
    {
      "cell_type": "code",
      "source": [
        "# Add a new dimension of size 1 at the 1st dimension\n",
        "x = x.unsqueeze(1)\n",
        "x.shape"
      ],
      "metadata": {
        "colab": {
          "base_uri": "https://localhost:8080/"
        },
        "id": "I2wJn-I10R3-",
        "outputId": "4dd0e019-619d-4990-d04a-7d7768b7ee0b"
      },
      "id": "I2wJn-I10R3-",
      "execution_count": 24,
      "outputs": [
        {
          "output_type": "execute_result",
          "data": {
            "text/plain": [
              "torch.Size([5, 1, 2])"
            ]
          },
          "metadata": {},
          "execution_count": 24
        }
      ]
    },
    {
      "cell_type": "code",
      "source": [
        "# Squeeze the dimensions of x by getting rid of all the dimensions with 1 element\n",
        "x = x.squeeze()\n",
        "x.shape"
      ],
      "metadata": {
        "colab": {
          "base_uri": "https://localhost:8080/"
        },
        "id": "6s0yA_r10Upf",
        "outputId": "86b8f16b-9b81-477e-cfb0-1c34fcd78823"
      },
      "id": "6s0yA_r10Upf",
      "execution_count": 25,
      "outputs": [
        {
          "output_type": "execute_result",
          "data": {
            "text/plain": [
              "torch.Size([5, 2])"
            ]
          },
          "metadata": {},
          "execution_count": 25
        }
      ]
    },
    {
      "cell_type": "markdown",
      "source": [
        "If we want to get the total number of elements in a tensor, we can use the `numel()` method."
      ],
      "metadata": {
        "id": "kq2HRQx40cRX"
      },
      "id": "kq2HRQx40cRX"
    },
    {
      "cell_type": "code",
      "source": [
        "x"
      ],
      "metadata": {
        "colab": {
          "base_uri": "https://localhost:8080/"
        },
        "id": "SwOVAjtS0X0h",
        "outputId": "d07540b1-7f9c-4393-a446-c6096a26dbfa"
      },
      "id": "SwOVAjtS0X0h",
      "execution_count": 26,
      "outputs": [
        {
          "output_type": "execute_result",
          "data": {
            "text/plain": [
              "tensor([[0, 1],\n",
              "        [2, 3],\n",
              "        [4, 5],\n",
              "        [6, 7],\n",
              "        [8, 9]])"
            ]
          },
          "metadata": {},
          "execution_count": 26
        }
      ]
    },
    {
      "cell_type": "code",
      "source": [
        "# Get the number of elements in tensor.\n",
        "x.numel()"
      ],
      "metadata": {
        "colab": {
          "base_uri": "https://localhost:8080/"
        },
        "id": "C4C2jI2q0l0l",
        "outputId": "cca048a6-1de7-4e28-b556-120cf32778ab"
      },
      "id": "C4C2jI2q0l0l",
      "execution_count": 27,
      "outputs": [
        {
          "output_type": "execute_result",
          "data": {
            "text/plain": [
              "10"
            ]
          },
          "metadata": {},
          "execution_count": 27
        }
      ]
    },
    {
      "cell_type": "markdown",
      "source": [
        "### Device\n",
        "\n",
        "`Device` property tells `PyTorch` where to store our tensor. Where a tensor is stored determines which device, `GPU` or `CPU`, would be handling the computations involving it. We can find the device of a tensor with the `device` property.\n",
        "\n"
      ],
      "metadata": {
        "id": "z6AJcm6v0qtp"
      },
      "id": "z6AJcm6v0qtp"
    },
    {
      "cell_type": "code",
      "source": [
        "# Initialize an example tensor\n",
        "x = torch.Tensor([[1, 2], [3, 4]])\n",
        "x"
      ],
      "metadata": {
        "colab": {
          "base_uri": "https://localhost:8080/"
        },
        "id": "CTTRy26q0oLl",
        "outputId": "5cbb31d7-0cd9-49c3-80fa-5f314977e8a3"
      },
      "id": "CTTRy26q0oLl",
      "execution_count": 28,
      "outputs": [
        {
          "output_type": "execute_result",
          "data": {
            "text/plain": [
              "tensor([[1., 2.],\n",
              "        [3., 4.]])"
            ]
          },
          "metadata": {},
          "execution_count": 28
        }
      ]
    },
    {
      "cell_type": "code",
      "source": [
        "# Get the device of the tensor\n",
        "x.device"
      ],
      "metadata": {
        "colab": {
          "base_uri": "https://localhost:8080/"
        },
        "id": "Ue84tKlM01CU",
        "outputId": "60dc7d0e-d4fe-4583-9d5e-cf34f8074f48"
      },
      "id": "Ue84tKlM01CU",
      "execution_count": 29,
      "outputs": [
        {
          "output_type": "execute_result",
          "data": {
            "text/plain": [
              "device(type='cpu')"
            ]
          },
          "metadata": {},
          "execution_count": 29
        }
      ]
    },
    {
      "cell_type": "markdown",
      "source": [
        "\n",
        "We can move a tensor from one device to another with the method `to(device)`."
      ],
      "metadata": {
        "id": "Lur0JFVW059M"
      },
      "id": "Lur0JFVW059M"
    },
    {
      "cell_type": "code",
      "source": [
        "# Check if a GPU is available, if so, move the tensor to the GPU\n",
        "if torch.cuda.is_available():\n",
        "  x.to('cuda') "
      ],
      "metadata": {
        "id": "ms9alNuB03PS"
      },
      "id": "ms9alNuB03PS",
      "execution_count": 30,
      "outputs": []
    },
    {
      "cell_type": "markdown",
      "source": [
        "## Tensor Indexing\n",
        "\n",
        "In `PyTorch` we can index tensors, similar to `NumPy`.\n"
      ],
      "metadata": {
        "id": "Gpt1wm8t1Eex"
      },
      "id": "Gpt1wm8t1Eex"
    },
    {
      "cell_type": "code",
      "source": [
        "# Initialize an example tensor\n",
        "x = torch.Tensor([\n",
        "                  [[1, 2], [3, 4]],\n",
        "                  [[5, 6], [7, 8]], \n",
        "                  [[9, 10], [11, 12]] \n",
        "                 ])\n",
        "x"
      ],
      "metadata": {
        "colab": {
          "base_uri": "https://localhost:8080/"
        },
        "id": "Bi8472nG1BJH",
        "outputId": "e9db3557-49d5-4854-ede2-a80b4edbe7f6"
      },
      "id": "Bi8472nG1BJH",
      "execution_count": 31,
      "outputs": [
        {
          "output_type": "execute_result",
          "data": {
            "text/plain": [
              "tensor([[[ 1.,  2.],\n",
              "         [ 3.,  4.]],\n",
              "\n",
              "        [[ 5.,  6.],\n",
              "         [ 7.,  8.]],\n",
              "\n",
              "        [[ 9., 10.],\n",
              "         [11., 12.]]])"
            ]
          },
          "metadata": {},
          "execution_count": 31
        }
      ]
    },
    {
      "cell_type": "code",
      "source": [
        "x.shape"
      ],
      "metadata": {
        "colab": {
          "base_uri": "https://localhost:8080/"
        },
        "id": "c6PaekVk1ML_",
        "outputId": "583141b4-3d9f-4f3d-f3aa-414dd6a42bb9"
      },
      "id": "c6PaekVk1ML_",
      "execution_count": 32,
      "outputs": [
        {
          "output_type": "execute_result",
          "data": {
            "text/plain": [
              "torch.Size([3, 2, 2])"
            ]
          },
          "metadata": {},
          "execution_count": 32
        }
      ]
    },
    {
      "cell_type": "code",
      "source": [
        "# Access the 0th element, which is the first row\n",
        "x[0] # Equivalent to x[0, :]"
      ],
      "metadata": {
        "colab": {
          "base_uri": "https://localhost:8080/"
        },
        "id": "6MiZ12v01O8q",
        "outputId": "b8219a54-d599-4a9f-efc7-11e16d796e75"
      },
      "id": "6MiZ12v01O8q",
      "execution_count": 33,
      "outputs": [
        {
          "output_type": "execute_result",
          "data": {
            "text/plain": [
              "tensor([[1., 2.],\n",
              "        [3., 4.]])"
            ]
          },
          "metadata": {},
          "execution_count": 33
        }
      ]
    },
    {
      "cell_type": "markdown",
      "source": [
        "We can also index into multiple dimensions with `:`."
      ],
      "metadata": {
        "id": "XKolIqnq1YfX"
      },
      "id": "XKolIqnq1YfX"
    },
    {
      "cell_type": "code",
      "source": [
        "# Get the top left element of each element in our tensor\n",
        "x[:, 0, 0]"
      ],
      "metadata": {
        "colab": {
          "base_uri": "https://localhost:8080/"
        },
        "id": "Q6oqWIOG1SU4",
        "outputId": "6c5b9808-ca55-4d99-f5e6-1ef7b544794f"
      },
      "id": "Q6oqWIOG1SU4",
      "execution_count": 34,
      "outputs": [
        {
          "output_type": "execute_result",
          "data": {
            "text/plain": [
              "tensor([1., 5., 9.])"
            ]
          },
          "metadata": {},
          "execution_count": 34
        }
      ]
    },
    {
      "cell_type": "markdown",
      "source": [
        "We can also access arbitrary elements in each dimension."
      ],
      "metadata": {
        "id": "QvKtl9Oy1e-d"
      },
      "id": "QvKtl9Oy1e-d"
    },
    {
      "cell_type": "code",
      "source": [
        "# Print x again to see our tensor\n",
        "x"
      ],
      "metadata": {
        "colab": {
          "base_uri": "https://localhost:8080/"
        },
        "id": "gTPa-ui61cEu",
        "outputId": "4d295356-9053-498a-8d2a-62b4bb6ab796"
      },
      "id": "gTPa-ui61cEu",
      "execution_count": 35,
      "outputs": [
        {
          "output_type": "execute_result",
          "data": {
            "text/plain": [
              "tensor([[[ 1.,  2.],\n",
              "         [ 3.,  4.]],\n",
              "\n",
              "        [[ 5.,  6.],\n",
              "         [ 7.,  8.]],\n",
              "\n",
              "        [[ 9., 10.],\n",
              "         [11., 12.]]])"
            ]
          },
          "metadata": {},
          "execution_count": 35
        }
      ]
    },
    {
      "cell_type": "code",
      "source": [
        "# Let's access the 0th and 1st elements, each twice\n",
        "i = torch.tensor([0, 0, 1, 1])\n",
        "x[i]"
      ],
      "metadata": {
        "colab": {
          "base_uri": "https://localhost:8080/"
        },
        "id": "sJhRHeND1jLr",
        "outputId": "f626c299-a6d4-4316-9a77-24d06ff6610f"
      },
      "id": "sJhRHeND1jLr",
      "execution_count": 36,
      "outputs": [
        {
          "output_type": "execute_result",
          "data": {
            "text/plain": [
              "tensor([[[1., 2.],\n",
              "         [3., 4.]],\n",
              "\n",
              "        [[1., 2.],\n",
              "         [3., 4.]],\n",
              "\n",
              "        [[5., 6.],\n",
              "         [7., 8.]],\n",
              "\n",
              "        [[5., 6.],\n",
              "         [7., 8.]]])"
            ]
          },
          "metadata": {},
          "execution_count": 36
        }
      ]
    },
    {
      "cell_type": "code",
      "source": [
        "# Let's access the 0th elements of the 1st and 2nd elements\n",
        "i = torch.tensor([1, 2])\n",
        "j = torch.tensor([0])\n",
        "x[i, j]"
      ],
      "metadata": {
        "colab": {
          "base_uri": "https://localhost:8080/"
        },
        "id": "HdEH7KTd1paW",
        "outputId": "61291bac-f903-470e-fbfa-a2a61e130603"
      },
      "id": "HdEH7KTd1paW",
      "execution_count": 37,
      "outputs": [
        {
          "output_type": "execute_result",
          "data": {
            "text/plain": [
              "tensor([[ 5.,  6.],\n",
              "        [ 9., 10.]])"
            ]
          },
          "metadata": {},
          "execution_count": 37
        }
      ]
    },
    {
      "cell_type": "markdown",
      "source": [
        "We can get a Python scalar value from a tensor with `item()`."
      ],
      "metadata": {
        "id": "XgFrs_dc1_xH"
      },
      "id": "XgFrs_dc1_xH"
    },
    {
      "cell_type": "code",
      "source": [
        "x[0, 0, 0]"
      ],
      "metadata": {
        "colab": {
          "base_uri": "https://localhost:8080/"
        },
        "id": "WBuQp-lU1xc6",
        "outputId": "071e0b87-1b1d-4ca1-be3b-6afbabeebdb5"
      },
      "id": "WBuQp-lU1xc6",
      "execution_count": 38,
      "outputs": [
        {
          "output_type": "execute_result",
          "data": {
            "text/plain": [
              "tensor(1.)"
            ]
          },
          "metadata": {},
          "execution_count": 38
        }
      ]
    },
    {
      "cell_type": "code",
      "source": [
        "x[0, 0, 0].item()"
      ],
      "metadata": {
        "colab": {
          "base_uri": "https://localhost:8080/"
        },
        "id": "3qqpti2H2E5M",
        "outputId": "3244d2bb-e2e3-4575-cfcc-57f1d8ebd85b"
      },
      "id": "3qqpti2H2E5M",
      "execution_count": 39,
      "outputs": [
        {
          "output_type": "execute_result",
          "data": {
            "text/plain": [
              "1.0"
            ]
          },
          "metadata": {},
          "execution_count": 39
        }
      ]
    },
    {
      "cell_type": "markdown",
      "source": [
        "# Operations\n",
        "\n",
        "PyTorch operations are very similar to those of `NumPy`. We can work with both scalars and other tensors."
      ],
      "metadata": {
        "id": "DDRLUCxe2KGO"
      },
      "id": "DDRLUCxe2KGO"
    },
    {
      "cell_type": "code",
      "source": [
        "# Create an example tensor\n",
        "x = torch.ones((3,2,2))\n",
        "x"
      ],
      "metadata": {
        "colab": {
          "base_uri": "https://localhost:8080/"
        },
        "id": "E5kGawo42Hb2",
        "outputId": "d7a4cddb-e3f4-429a-998f-9ba52f92a1fb"
      },
      "id": "E5kGawo42Hb2",
      "execution_count": 40,
      "outputs": [
        {
          "output_type": "execute_result",
          "data": {
            "text/plain": [
              "tensor([[[1., 1.],\n",
              "         [1., 1.]],\n",
              "\n",
              "        [[1., 1.],\n",
              "         [1., 1.]],\n",
              "\n",
              "        [[1., 1.],\n",
              "         [1., 1.]]])"
            ]
          },
          "metadata": {},
          "execution_count": 40
        }
      ]
    },
    {
      "cell_type": "code",
      "source": [
        "# Perform elementwise addition\n",
        "# Use - for subtraction\n",
        "x + 2"
      ],
      "metadata": {
        "colab": {
          "base_uri": "https://localhost:8080/"
        },
        "id": "NzprEeSo2Wj2",
        "outputId": "defe4bf5-1c3b-459b-e4f1-24a3e54e423c"
      },
      "id": "NzprEeSo2Wj2",
      "execution_count": 41,
      "outputs": [
        {
          "output_type": "execute_result",
          "data": {
            "text/plain": [
              "tensor([[[3., 3.],\n",
              "         [3., 3.]],\n",
              "\n",
              "        [[3., 3.],\n",
              "         [3., 3.]],\n",
              "\n",
              "        [[3., 3.],\n",
              "         [3., 3.]]])"
            ]
          },
          "metadata": {},
          "execution_count": 41
        }
      ]
    },
    {
      "cell_type": "code",
      "source": [
        "# Perform elementwise multiplication\n",
        "# Use / for division\n",
        "x * 2"
      ],
      "metadata": {
        "colab": {
          "base_uri": "https://localhost:8080/"
        },
        "id": "6C6stAmx2ZKU",
        "outputId": "65ee0276-de24-40da-c730-40d8e085270c"
      },
      "id": "6C6stAmx2ZKU",
      "execution_count": 42,
      "outputs": [
        {
          "output_type": "execute_result",
          "data": {
            "text/plain": [
              "tensor([[[2., 2.],\n",
              "         [2., 2.]],\n",
              "\n",
              "        [[2., 2.],\n",
              "         [2., 2.]],\n",
              "\n",
              "        [[2., 2.],\n",
              "         [2., 2.]]])"
            ]
          },
          "metadata": {},
          "execution_count": 42
        }
      ]
    },
    {
      "cell_type": "markdown",
      "source": [
        "We can apply the same operations between different tensors of compatible sizes."
      ],
      "metadata": {
        "id": "YDVp3YmA2ehl"
      },
      "id": "YDVp3YmA2ehl"
    },
    {
      "cell_type": "code",
      "source": [
        "# Create a 4x3 tensor of 6s\n",
        "a = torch.ones((4,3)) * 6\n",
        "a"
      ],
      "metadata": {
        "colab": {
          "base_uri": "https://localhost:8080/"
        },
        "id": "U_AwK4Lh2b24",
        "outputId": "c8639c97-bbdd-4991-bb57-dc088794f742"
      },
      "id": "U_AwK4Lh2b24",
      "execution_count": 43,
      "outputs": [
        {
          "output_type": "execute_result",
          "data": {
            "text/plain": [
              "tensor([[6., 6., 6.],\n",
              "        [6., 6., 6.],\n",
              "        [6., 6., 6.],\n",
              "        [6., 6., 6.]])"
            ]
          },
          "metadata": {},
          "execution_count": 43
        }
      ]
    },
    {
      "cell_type": "code",
      "source": [
        "# Create a 1D tensor of 2s\n",
        "b = torch.ones(3) * 2\n",
        "b"
      ],
      "metadata": {
        "colab": {
          "base_uri": "https://localhost:8080/"
        },
        "id": "SoJ5kJAb2jZQ",
        "outputId": "79f606e4-2d5c-45f9-d05e-e7d6568bf080"
      },
      "id": "SoJ5kJAb2jZQ",
      "execution_count": 44,
      "outputs": [
        {
          "output_type": "execute_result",
          "data": {
            "text/plain": [
              "tensor([2., 2., 2.])"
            ]
          },
          "metadata": {},
          "execution_count": 44
        }
      ]
    },
    {
      "cell_type": "code",
      "source": [
        "# Divide a by b\n",
        "a / b"
      ],
      "metadata": {
        "colab": {
          "base_uri": "https://localhost:8080/"
        },
        "id": "IHy5rELN2lq2",
        "outputId": "fd20a0a6-8b67-4a3f-a2bd-b198e5a91f21"
      },
      "id": "IHy5rELN2lq2",
      "execution_count": 45,
      "outputs": [
        {
          "output_type": "execute_result",
          "data": {
            "text/plain": [
              "tensor([[3., 3., 3.],\n",
              "        [3., 3., 3.],\n",
              "        [3., 3., 3.],\n",
              "        [3., 3., 3.]])"
            ]
          },
          "metadata": {},
          "execution_count": 45
        }
      ]
    },
    {
      "cell_type": "markdown",
      "source": [
        "We can use `tensor.matmul(other_tensor)` for matrix multiplication and `tensor.T` for transpose. Matrix multiplication can also be performed with `@`."
      ],
      "metadata": {
        "id": "hfzrD82f2ux9"
      },
      "id": "hfzrD82f2ux9"
    },
    {
      "cell_type": "code",
      "source": [
        "# Alternative to a.matmul(b)\n",
        "# a @ b.T returns the same result since b is 1D tensor and the 2nd dimension\n",
        "# is inferred\n",
        "a @ b"
      ],
      "metadata": {
        "colab": {
          "base_uri": "https://localhost:8080/"
        },
        "id": "XeX_yTLL2pX8",
        "outputId": "5067bf19-9e11-4b92-d553-8285ebc80a33"
      },
      "id": "XeX_yTLL2pX8",
      "execution_count": 46,
      "outputs": [
        {
          "output_type": "execute_result",
          "data": {
            "text/plain": [
              "tensor([36., 36., 36., 36.])"
            ]
          },
          "metadata": {},
          "execution_count": 46
        }
      ]
    },
    {
      "cell_type": "code",
      "source": [
        "pp.pprint(a.shape)\n",
        "pp.pprint(a.T.shape)"
      ],
      "metadata": {
        "colab": {
          "base_uri": "https://localhost:8080/"
        },
        "id": "P-F9ZgNf227e",
        "outputId": "22a535a8-d366-4ba5-d593-dee894e13048"
      },
      "id": "P-F9ZgNf227e",
      "execution_count": 47,
      "outputs": [
        {
          "output_type": "stream",
          "name": "stdout",
          "text": [
            "torch.Size([4, 3])\n",
            "torch.Size([3, 4])\n"
          ]
        }
      ]
    },
    {
      "cell_type": "markdown",
      "source": [
        "We can take the mean and standard deviation along a certain dimension with the methods `mean(dim)` and `std(dim)`. That is, if we want to get the mean `3x2` matrix in a `4x3x2` matrix, we would set the `dim` to be `0`. We can call these methods with no parameter to get the mean and standard deviation for the whole tensor. To use `mean` and `std` our tensor should be a floating point type."
      ],
      "metadata": {
        "id": "AOd_YEav3Ngm"
      },
      "id": "AOd_YEav3Ngm"
    },
    {
      "cell_type": "code",
      "source": [
        "# Create an example tensor\n",
        "m = torch.tensor(\n",
        "    [\n",
        "     [1., 1.],\n",
        "     [2., 2.],\n",
        "     [3., 3.],\n",
        "     [4., 4.]\n",
        "    ]\n",
        ")\n",
        "\n",
        "pp.pprint(\"Mean: {}\".format(m.mean()))\n",
        "pp.pprint(\"Mean in the 0th dimension: {}\".format(m.mean(0)))\n",
        "pp.pprint(\"Mean in the 1st dimension: {}\".format(m.mean(1)))"
      ],
      "metadata": {
        "colab": {
          "base_uri": "https://localhost:8080/"
        },
        "id": "xR067ThK2-Ws",
        "outputId": "de4b1e6f-3ec1-43e1-8b49-47082f42081a"
      },
      "id": "xR067ThK2-Ws",
      "execution_count": 48,
      "outputs": [
        {
          "output_type": "stream",
          "name": "stdout",
          "text": [
            "'Mean: 2.5'\n",
            "'Mean in the 0th dimension: tensor([2.5000, 2.5000])'\n",
            "'Mean in the 1st dimension: tensor([1., 2., 3., 4.])'\n"
          ]
        }
      ]
    },
    {
      "cell_type": "markdown",
      "source": [
        "We can concatenate tensors using `torch.cat`."
      ],
      "metadata": {
        "id": "HuEyvVF93kbg"
      },
      "id": "HuEyvVF93kbg"
    },
    {
      "cell_type": "code",
      "source": [
        "# Concatenate in dimension 0 and 1\n",
        "a_cat0 = torch.cat([a, a, a], dim=0)\n",
        "a_cat1 = torch.cat([a, a, a], dim=1)\n",
        "\n",
        "print(\"Initial shape: {}\".format(a.shape))\n",
        "print(\"Shape after concatenation in dimension 0: {}\".format(a_cat0.shape))\n",
        "print(\"Shape after concatenation in dimension 1: {}\".format(a_cat1.shape))"
      ],
      "metadata": {
        "colab": {
          "base_uri": "https://localhost:8080/"
        },
        "id": "Q40wcPwI3dFh",
        "outputId": "b9f95843-5a88-4755-b356-7820788309b6"
      },
      "id": "Q40wcPwI3dFh",
      "execution_count": 49,
      "outputs": [
        {
          "output_type": "stream",
          "name": "stdout",
          "text": [
            "Initial shape: torch.Size([4, 3])\n",
            "Shape after concatenation in dimension 0: torch.Size([12, 3])\n",
            "Shape after concatenation in dimension 1: torch.Size([4, 9])\n"
          ]
        }
      ]
    },
    {
      "cell_type": "markdown",
      "source": [
        "Most of the operations in `PyTorch` are not in place. However, `PyTorch` offers the in place versions of operations available by adding an underscore (`_`) at the end of the method name."
      ],
      "metadata": {
        "id": "UWc3QppF34Xc"
      },
      "id": "UWc3QppF34Xc"
    },
    {
      "cell_type": "code",
      "source": [
        "# Print our tensor\n",
        "a"
      ],
      "metadata": {
        "colab": {
          "base_uri": "https://localhost:8080/"
        },
        "id": "Jwcssz-s308s",
        "outputId": "9600cc69-c646-48c0-9b30-6cea39c892b1"
      },
      "id": "Jwcssz-s308s",
      "execution_count": 50,
      "outputs": [
        {
          "output_type": "execute_result",
          "data": {
            "text/plain": [
              "tensor([[6., 6., 6.],\n",
              "        [6., 6., 6.],\n",
              "        [6., 6., 6.],\n",
              "        [6., 6., 6.]])"
            ]
          },
          "metadata": {},
          "execution_count": 50
        }
      ]
    },
    {
      "cell_type": "code",
      "source": [
        "# add() is not in place\n",
        "a.add(a)\n",
        "a"
      ],
      "metadata": {
        "colab": {
          "base_uri": "https://localhost:8080/"
        },
        "id": "VYzb7Kkt3-5h",
        "outputId": "7193726a-6ecc-4c26-9bb5-458a7672da4d"
      },
      "id": "VYzb7Kkt3-5h",
      "execution_count": 51,
      "outputs": [
        {
          "output_type": "execute_result",
          "data": {
            "text/plain": [
              "tensor([[6., 6., 6.],\n",
              "        [6., 6., 6.],\n",
              "        [6., 6., 6.],\n",
              "        [6., 6., 6.]])"
            ]
          },
          "metadata": {},
          "execution_count": 51
        }
      ]
    },
    {
      "cell_type": "code",
      "source": [
        "# add_() is in place\n",
        "a.add_(a)\n",
        "a"
      ],
      "metadata": {
        "colab": {
          "base_uri": "https://localhost:8080/"
        },
        "id": "AN7V68Hf4BQK",
        "outputId": "1a5bfa8c-191e-48a1-add4-81f76a585a2d"
      },
      "id": "AN7V68Hf4BQK",
      "execution_count": 52,
      "outputs": [
        {
          "output_type": "execute_result",
          "data": {
            "text/plain": [
              "tensor([[12., 12., 12.],\n",
              "        [12., 12., 12.],\n",
              "        [12., 12., 12.],\n",
              "        [12., 12., 12.]])"
            ]
          },
          "metadata": {},
          "execution_count": 52
        }
      ]
    },
    {
      "cell_type": "markdown",
      "source": [
        "# Autograd\n",
        "\n",
        "`PyTorch` and other machine learning libraries are known for their automatic differantiation feature. That is, given that we have defined the set of operations that need to be performed, the framework itself can figure out how to compute the gradients. We can call the `backward()` method to ask `PyTorch` to calculate the gradiends, which are then stored in the `grad` attribute.\n",
        "\n"
      ],
      "metadata": {
        "id": "LBC8CIjb4LZo"
      },
      "id": "LBC8CIjb4LZo"
    },
    {
      "cell_type": "code",
      "source": [
        "# Create an example tensor\n",
        "# requires_grad parameter tells PyTorch to store gradients\n",
        "x = torch.tensor([2.], requires_grad=True)\n",
        "\n",
        "# Print the gradient if it is calculated\n",
        "# Currently None since x is a scalar\n",
        "pp.pprint(x.grad)"
      ],
      "metadata": {
        "colab": {
          "base_uri": "https://localhost:8080/"
        },
        "id": "ja-Q-RUR4Ffc",
        "outputId": "13d446aa-3914-4f71-85cc-6b4b8404e0db"
      },
      "id": "ja-Q-RUR4Ffc",
      "execution_count": 53,
      "outputs": [
        {
          "output_type": "stream",
          "name": "stdout",
          "text": [
            "None\n"
          ]
        }
      ]
    },
    {
      "cell_type": "code",
      "source": [
        "# Calculating the gradient of y with respect to x\n",
        "y = x * x * 3 # 3x^2\n",
        "y.backward()\n",
        "pp.pprint(x.grad) # d(y)/d(x) = d(3x^2)/d(x) = 6x = 12"
      ],
      "metadata": {
        "colab": {
          "base_uri": "https://localhost:8080/"
        },
        "id": "d14G-4Pk4ZWJ",
        "outputId": "a7333984-7585-4c70-f2b1-50ec6c828bae"
      },
      "id": "d14G-4Pk4ZWJ",
      "execution_count": 54,
      "outputs": [
        {
          "output_type": "stream",
          "name": "stdout",
          "text": [
            "tensor([12.])\n"
          ]
        }
      ]
    },
    {
      "cell_type": "markdown",
      "source": [
        "Let's run `backprop` from a different tensor again to see what happens."
      ],
      "metadata": {
        "id": "vOq4blkV4nSW"
      },
      "id": "vOq4blkV4nSW"
    },
    {
      "cell_type": "code",
      "source": [
        "z = x * x * 3 # 3x^2\n",
        "z.backward()\n",
        "pp.pprint(x.grad)"
      ],
      "metadata": {
        "colab": {
          "base_uri": "https://localhost:8080/"
        },
        "id": "ijOVFn4D4dg5",
        "outputId": "9c605578-fd89-497c-924e-2718b40c8d39"
      },
      "id": "ijOVFn4D4dg5",
      "execution_count": 55,
      "outputs": [
        {
          "output_type": "stream",
          "name": "stdout",
          "text": [
            "tensor([24.])\n"
          ]
        }
      ]
    },
    {
      "cell_type": "markdown",
      "source": [
        "We can see that the `x.grad` is updated to be the sum of the gradients calculated so far. When we run `backprop` in a neural network, we sum up all the gradients for a particular neuron before making an update. This is exactly what is happening here! This is also the reason why we need to run `zero_grad()` in every training iteration (more on this later). Otherwise our gradients would keep building up from one training iteration to the other, which would cause our updates to be wrong."
      ],
      "metadata": {
        "id": "-ErKoKa-4yaT"
      },
      "id": "-ErKoKa-4yaT"
    },
    {
      "cell_type": "markdown",
      "source": [
        "# Neural Network Module\n",
        "\n",
        "So far we have looked into the tensors, their properties and basic operations on tensors. These are especially useful to get familiar with if we are building the layers of our network from scratch. We will utilize these in Assignment 3, but moving forward, we will use predefined blocks in the `torch.nn` module of `PyTorch`. We will then put together these blocks to create complex networks. Let's start by importing this module with an alias so that we don't have to type torch every time we use it.\n"
      ],
      "metadata": {
        "id": "gl8aSHzC46fK"
      },
      "id": "gl8aSHzC46fK"
    },
    {
      "cell_type": "code",
      "source": [
        "import torch.nn as nn"
      ],
      "metadata": {
        "id": "eh50IwSF4xjC"
      },
      "id": "eh50IwSF4xjC",
      "execution_count": 56,
      "outputs": []
    },
    {
      "cell_type": "markdown",
      "source": [
        "## Linear Layer\n",
        "\n",
        "We can use `nn.Linear(H_in, H_out)` to create a a linear layer. This will take a matrix of `(N, *, H_in)` dimensions and output a matrix of `(N, *, H_out)`. The `*` denotes that there could be arbitrary number of dimensions in between. The linear layer performs the operation `Ax+b`, where `A` and `b` are initialized randomly. If we don't want the linear layer to learn the bias parameters, we can initialize our layer with `bias=False`.\n"
      ],
      "metadata": {
        "id": "NkkxnNk35GZs"
      },
      "id": "NkkxnNk35GZs"
    },
    {
      "cell_type": "code",
      "source": [
        "# Create the inputs\n",
        "input = torch.ones(2,3,4)\n",
        "\n",
        "# Make a linear layers transforming N,*,H_in dimensinal inputs to N,*,H_out\n",
        "# dimensional outputs\n",
        "linear = nn.Linear(4, 2)\n",
        "linear_output = linear(input)\n",
        "linear_output"
      ],
      "metadata": {
        "colab": {
          "base_uri": "https://localhost:8080/"
        },
        "id": "dpxHqt364sL9",
        "outputId": "7a58fbe8-d898-440e-9135-1cfa2d2d9b40"
      },
      "id": "dpxHqt364sL9",
      "execution_count": 57,
      "outputs": [
        {
          "output_type": "execute_result",
          "data": {
            "text/plain": [
              "tensor([[[-0.1491, -0.4658],\n",
              "         [-0.1491, -0.4658],\n",
              "         [-0.1491, -0.4658]],\n",
              "\n",
              "        [[-0.1491, -0.4658],\n",
              "         [-0.1491, -0.4658],\n",
              "         [-0.1491, -0.4658]]], grad_fn=<AddBackward0>)"
            ]
          },
          "metadata": {},
          "execution_count": 57
        }
      ]
    },
    {
      "cell_type": "markdown",
      "source": [
        "## Other Module Layers\n",
        "\n",
        "There are several other preconfigured layers in the `nn` module. Some commonly used examples are `nn.Conv2d`, `nn.ConvTranspose2d`, `nn.BatchNorm1d`, `nn.BatchNorm2d`, `nn.Upsample` and `nn.MaxPool2d` among many others. We will learn more about these as we progress in the course. For now, the only important thing to remember is that we can treat each of these layers as plug and play components: we will be providing the required dimensions and `PyTorch` will take care of setting them up.\n"
      ],
      "metadata": {
        "id": "4F5fFkoL5Yfm"
      },
      "id": "4F5fFkoL5Yfm"
    },
    {
      "cell_type": "markdown",
      "source": [
        "## Activation Function Layer\n",
        "\n",
        "We can also use the `nn` module to apply activations functions to our tensors. Activation functions are used to add non-linearity to our network. Some examples of activations functions are `nn.ReLU()`, `nn.Sigmoid()` and `nn.LeakyReLU()`. Activation functions operate on each element seperately, so the shape of the tensors we get as an output are the same as the ones we pass in."
      ],
      "metadata": {
        "id": "F_sxOdHE5whd"
      },
      "id": "F_sxOdHE5whd"
    },
    {
      "cell_type": "code",
      "source": [
        "linear_output"
      ],
      "metadata": {
        "colab": {
          "base_uri": "https://localhost:8080/"
        },
        "id": "ZhbjJUZh5U-2",
        "outputId": "60645de3-8c7f-4da7-9519-bac9e20c81a9"
      },
      "id": "ZhbjJUZh5U-2",
      "execution_count": 58,
      "outputs": [
        {
          "output_type": "execute_result",
          "data": {
            "text/plain": [
              "tensor([[[-0.1491, -0.4658],\n",
              "         [-0.1491, -0.4658],\n",
              "         [-0.1491, -0.4658]],\n",
              "\n",
              "        [[-0.1491, -0.4658],\n",
              "         [-0.1491, -0.4658],\n",
              "         [-0.1491, -0.4658]]], grad_fn=<AddBackward0>)"
            ]
          },
          "metadata": {},
          "execution_count": 58
        }
      ]
    },
    {
      "cell_type": "code",
      "source": [
        "sigmoid = nn.Sigmoid()\n",
        "output = sigmoid(linear_output)\n",
        "output"
      ],
      "metadata": {
        "colab": {
          "base_uri": "https://localhost:8080/"
        },
        "id": "xWaJnEmm53BJ",
        "outputId": "2822df59-1b2a-421a-856e-1dcf614ac115"
      },
      "id": "xWaJnEmm53BJ",
      "execution_count": 59,
      "outputs": [
        {
          "output_type": "execute_result",
          "data": {
            "text/plain": [
              "tensor([[[0.4628, 0.3856],\n",
              "         [0.4628, 0.3856],\n",
              "         [0.4628, 0.3856]],\n",
              "\n",
              "        [[0.4628, 0.3856],\n",
              "         [0.4628, 0.3856],\n",
              "         [0.4628, 0.3856]]], grad_fn=<SigmoidBackward0>)"
            ]
          },
          "metadata": {},
          "execution_count": 59
        }
      ]
    },
    {
      "cell_type": "markdown",
      "source": [
        "## Putting the Layers Together\n",
        "\n",
        "So far we have seen that we can create layers and pass the output of one as the input of the next. Instead of creating intermediate tensors and passing them around, we can use `nn.Sequential`, which does exactly that.\n"
      ],
      "metadata": {
        "id": "yx0md9Hh588h"
      },
      "id": "yx0md9Hh588h"
    },
    {
      "cell_type": "code",
      "source": [
        "block = nn.Sequential(\n",
        "    nn.Linear(4, 2),\n",
        "    nn.Sigmoid()\n",
        ")\n",
        "\n",
        "input = torch.ones(2,3,4)\n",
        "output = block(input)\n",
        "output"
      ],
      "metadata": {
        "colab": {
          "base_uri": "https://localhost:8080/"
        },
        "id": "3lkmYLIw55fL",
        "outputId": "88ef11f0-cf78-42dc-b41b-35e567aaf9bd"
      },
      "id": "3lkmYLIw55fL",
      "execution_count": 60,
      "outputs": [
        {
          "output_type": "execute_result",
          "data": {
            "text/plain": [
              "tensor([[[0.3575, 0.7117],\n",
              "         [0.3575, 0.7117],\n",
              "         [0.3575, 0.7117]],\n",
              "\n",
              "        [[0.3575, 0.7117],\n",
              "         [0.3575, 0.7117],\n",
              "         [0.3575, 0.7117]]], grad_fn=<SigmoidBackward0>)"
            ]
          },
          "metadata": {},
          "execution_count": 60
        }
      ]
    },
    {
      "cell_type": "markdown",
      "source": [
        "## Custom Modules\n",
        "\n",
        "Instead of using the predefined modules, we can also build our own by extending the `nn.Module` class. For example, we can build a `nn.Linear` (which also extends `nn.Module`) on our own using the tensor introduced earlier! We can also build new, more complex modules, such as a custom neural network. You will be practicing these in the later assignment.\n",
        "\n",
        "To create a custom module, the first thing we have to do is to extend the nn.Module. We can then initialize our parameters in the `__init__` function, starting with a call to the `__init__` function of the super class. All the class attributes we define which are nn module objects are treated as parameters, which can be learned during the training. Tensors are not parameters, but they can be turned into parameters if they are wrapped in nn.Parameter class.\n",
        "\n",
        "All classes extending `nn.Module` are also expected to implement a `forward(x)` function, where `x` is a tensor. This is the function that is called when a parameter is passed to our module, such as in `model(x)`.\n"
      ],
      "metadata": {
        "id": "OVvRUA6HJ5k8"
      },
      "id": "OVvRUA6HJ5k8"
    },
    {
      "cell_type": "code",
      "source": [
        "class MultilayerPerceptron(nn.Module):\n",
        "\n",
        "  def __init__(self, input_size, hidden_size):\n",
        "    # Call to the __init__ function of the super class\n",
        "    super(MultilayerPerceptron, self).__init__()\n",
        "\n",
        "    # Bookkeeping: Saving the initialization parameters\n",
        "    self.input_size = input_size \n",
        "    self.hidden_size = hidden_size \n",
        "\n",
        "    # Defining of our model\n",
        "    # There isn't anything specific about the naming of `self.model`. It could\n",
        "    # be something arbitrary.\n",
        "    self.model = nn.Sequential(\n",
        "        nn.Linear(self.input_size, self.hidden_size),\n",
        "        nn.ReLU(),\n",
        "        nn.Linear(self.hidden_size, self.input_size),\n",
        "        nn.Sigmoid()\n",
        "    )\n",
        "    \n",
        "  def forward(self, x):\n",
        "    output = self.model(x)\n",
        "    return output"
      ],
      "metadata": {
        "id": "kwrljvw_6ECp"
      },
      "id": "kwrljvw_6ECp",
      "execution_count": 61,
      "outputs": []
    },
    {
      "cell_type": "markdown",
      "source": [
        "Here is an alternative way to define the same class. You can see that we can replace `nn.Sequential` by defining the individual layers in the `__init__` method and connecting the in the `forward` method."
      ],
      "metadata": {
        "id": "BQTZcl45KPXo"
      },
      "id": "BQTZcl45KPXo"
    },
    {
      "cell_type": "code",
      "source": [
        "class MultilayerPerceptron(nn.Module):\n",
        "\n",
        "  def __init__(self, input_size, hidden_size):\n",
        "    # Call to the __init__ function of the super class\n",
        "    super(MultilayerPerceptron, self).__init__()\n",
        "\n",
        "    # Bookkeeping: Saving the initialization parameters\n",
        "    self.input_size = input_size \n",
        "    self.hidden_size = hidden_size \n",
        "\n",
        "    # Defining of our layers\n",
        "    self.linear = nn.Linear(self.input_size, self.hidden_size)\n",
        "    self.relu = nn.ReLU()\n",
        "    self.linear2 = nn.Linear(self.hidden_size, self.input_size)\n",
        "    self.sigmoid = nn.Sigmoid()\n",
        "    \n",
        "  def forward(self, x):\n",
        "    linear = self.linear(x)\n",
        "    relu = self.relu(linear)\n",
        "    linear2 = self.linear2(relu)\n",
        "    output = self.sigmoid(linear2)\n",
        "    return output"
      ],
      "metadata": {
        "id": "rMiC82egKVMd"
      },
      "id": "rMiC82egKVMd",
      "execution_count": 62,
      "outputs": []
    },
    {
      "cell_type": "markdown",
      "source": [
        "Now that we have defined our class, we can instantiate it and see what it does.\n"
      ],
      "metadata": {
        "id": "HygpbihYKZDd"
      },
      "id": "HygpbihYKZDd"
    },
    {
      "cell_type": "code",
      "source": [
        "# Make a sample input\n",
        "input = torch.randn(2, 5)\n",
        "\n",
        "# Create our model\n",
        "model = MultilayerPerceptron(5, 3)\n",
        "\n",
        "# Pass our input through our model\n",
        "model(input)"
      ],
      "metadata": {
        "colab": {
          "base_uri": "https://localhost:8080/"
        },
        "id": "OPKowHC_Kf7v",
        "outputId": "70feb2ac-fff3-4adb-8ba1-ea78e93e1a41"
      },
      "id": "OPKowHC_Kf7v",
      "execution_count": 63,
      "outputs": [
        {
          "output_type": "execute_result",
          "data": {
            "text/plain": [
              "tensor([[0.4432, 0.3086, 0.6842, 0.4221, 0.6432],\n",
              "        [0.4688, 0.4525, 0.6239, 0.5023, 0.5618]], grad_fn=<SigmoidBackward0>)"
            ]
          },
          "metadata": {},
          "execution_count": 63
        }
      ]
    },
    {
      "cell_type": "markdown",
      "source": [
        "We can inspect the parameters of our model with `named_parameters()` and `parameters()` methods.\n"
      ],
      "metadata": {
        "id": "5r2QNLRsKzb7"
      },
      "id": "5r2QNLRsKzb7"
    },
    {
      "cell_type": "code",
      "source": [
        "list(model.named_parameters())"
      ],
      "metadata": {
        "colab": {
          "base_uri": "https://localhost:8080/"
        },
        "id": "iQykL12NKgrb",
        "outputId": "6378e553-09fb-478b-b508-5234b9614c7f"
      },
      "id": "iQykL12NKgrb",
      "execution_count": 64,
      "outputs": [
        {
          "output_type": "execute_result",
          "data": {
            "text/plain": [
              "[('linear.weight', Parameter containing:\n",
              "  tensor([[ 0.0089, -0.1453,  0.3243,  0.3199,  0.4337],\n",
              "          [ 0.3504,  0.3701,  0.2860,  0.3648,  0.1204],\n",
              "          [ 0.1708,  0.1495,  0.1222,  0.1515, -0.2015]], requires_grad=True)),\n",
              " ('linear.bias', Parameter containing:\n",
              "  tensor([-0.2998, -0.1268, -0.4066], requires_grad=True)),\n",
              " ('linear2.weight', Parameter containing:\n",
              "  tensor([[-0.2931,  0.0476, -0.4439],\n",
              "          [-0.3577, -0.5258, -0.5311],\n",
              "          [ 0.3044,  0.2094,  0.2790],\n",
              "          [-0.0827, -0.2994, -0.2180],\n",
              "          [-0.2494,  0.3678,  0.0924]], requires_grad=True)),\n",
              " ('linear2.bias', Parameter containing:\n",
              "  tensor([-0.1249, -0.1907,  0.5061,  0.0093,  0.2485], requires_grad=True))]"
            ]
          },
          "metadata": {},
          "execution_count": 64
        }
      ]
    },
    {
      "cell_type": "markdown",
      "source": [
        "# Optimization\n",
        "\n",
        "We have showed how gradients are calculated with the `backward()` function. Having the gradients isn't enought for our models to learn. We also need to know how to update the parameters of our models. This is where the optomozers comes in. torch.optim module contains several optimizers that we can use. Some popular examples are `optim.SGD` and `optim.Adam`. When initializing optimizers, we pass our model parameters, which can be accessed with `model.parameters()`, telling the optimizers which values it will be optimizing. Optimizers also has a learning rate (`lr`) parameter, which determines how big of an update will be made in every step. Different optimizers have different hyperparameters as well.\n"
      ],
      "metadata": {
        "id": "F_RuOSbILMAk"
      },
      "id": "F_RuOSbILMAk"
    },
    {
      "cell_type": "code",
      "source": [
        "import torch.optim as optim"
      ],
      "metadata": {
        "id": "Fjtr9vc1K6AW"
      },
      "id": "Fjtr9vc1K6AW",
      "execution_count": 65,
      "outputs": []
    },
    {
      "cell_type": "markdown",
      "source": [
        "After we have our optimization function, we can define a loss that we want to optimize for. We can either define the loss ourselves, or use one of the predefined loss function in `PyTorch`, such as `nn.BCELoss()`. Let's put everything together now! We will start by creating some dummy data."
      ],
      "metadata": {
        "id": "7rYskY__Ljyp"
      },
      "id": "7rYskY__Ljyp"
    },
    {
      "cell_type": "code",
      "source": [
        "# Create the y data\n",
        "y = torch.ones(10, 5)\n",
        "\n",
        "# Add some noise to our goal y to generate our x\n",
        "# We want out model to predict our original data, albeit the noise\n",
        "x = y + torch.randn_like(y)\n",
        "x"
      ],
      "metadata": {
        "colab": {
          "base_uri": "https://localhost:8080/"
        },
        "id": "lLa68Wx3LhRZ",
        "outputId": "dc298e4f-7911-4e62-ce68-8fcb2a139693"
      },
      "id": "lLa68Wx3LhRZ",
      "execution_count": 67,
      "outputs": [
        {
          "output_type": "execute_result",
          "data": {
            "text/plain": [
              "tensor([[ 2.6335,  1.0943,  1.1249,  2.0148,  2.3871],\n",
              "        [ 0.6199, -0.0960,  0.2870,  1.8640,  1.9212],\n",
              "        [ 0.6390,  2.6397,  1.9156,  1.6738,  0.7709],\n",
              "        [ 0.3779,  0.9258,  2.3433,  2.3105,  1.5084],\n",
              "        [ 0.7214,  0.9707,  0.7044,  2.6305,  3.1664],\n",
              "        [-0.1700,  2.3299,  2.4085,  1.4717,  0.9167],\n",
              "        [ 0.3252,  2.0275,  1.5613,  1.5258,  1.6571],\n",
              "        [ 0.3215,  0.4191,  0.0752,  0.4823,  0.7957],\n",
              "        [ 3.4251, -0.6014,  3.0676,  1.8490,  1.9025],\n",
              "        [-0.7234,  1.7221,  1.3950,  0.3349,  1.9356]])"
            ]
          },
          "metadata": {},
          "execution_count": 67
        }
      ]
    },
    {
      "cell_type": "markdown",
      "source": [
        "Now, we can define our model, optimizer and the loss function."
      ],
      "metadata": {
        "id": "5Zbf6sXoLxtt"
      },
      "id": "5Zbf6sXoLxtt"
    },
    {
      "cell_type": "code",
      "source": [
        "# Instantiate the model\n",
        "model = MultilayerPerceptron(5, 3)\n",
        "\n",
        "# Define the optimizer\n",
        "adam = optim.Adam(model.parameters(), lr=1e-1)\n",
        "\n",
        "# Define loss using a predefined loss function\n",
        "loss_function = nn.BCELoss()\n",
        "\n",
        "# Calculate how our model is doing now\n",
        "y_pred = model(x)\n",
        "loss_function(y_pred, y).item()"
      ],
      "metadata": {
        "colab": {
          "base_uri": "https://localhost:8080/"
        },
        "id": "q6YjwGy9LrRY",
        "outputId": "5f50293d-61cd-4a55-f1bd-cf2442020834"
      },
      "id": "q6YjwGy9LrRY",
      "execution_count": 68,
      "outputs": [
        {
          "output_type": "execute_result",
          "data": {
            "text/plain": [
              "0.9731733202934265"
            ]
          },
          "metadata": {},
          "execution_count": 68
        }
      ]
    },
    {
      "cell_type": "markdown",
      "source": [
        "Let's see if we can have our model achieve a smaller loss. Now that we have everything we need, we can setup our training loop."
      ],
      "metadata": {
        "id": "6GFC3ZPrMGgW"
      },
      "id": "6GFC3ZPrMGgW"
    },
    {
      "cell_type": "code",
      "source": [
        "# Set the number of epoch, which determines the number of training iterations\n",
        "n_epoch = 10 \n",
        "\n",
        "for epoch in range(n_epoch):\n",
        "  # Set the gradients to 0\n",
        "  adam.zero_grad()\n",
        "\n",
        "  # Get the model predictions\n",
        "  y_pred = model(x)\n",
        "\n",
        "  # Get the loss\n",
        "  loss = loss_function(y_pred, y)\n",
        "\n",
        "  # Print stats\n",
        "  print(f\"Epoch {epoch}: traing loss: {loss}\")\n",
        "\n",
        "  # Compute the gradients\n",
        "  loss.backward()\n",
        "\n",
        "  # Take a step to optimize the weights\n",
        "  adam.step()"
      ],
      "metadata": {
        "colab": {
          "base_uri": "https://localhost:8080/"
        },
        "id": "2J-USsMjL6T7",
        "outputId": "2cba039d-5d5a-47eb-940c-6791f4b5c1c4"
      },
      "id": "2J-USsMjL6T7",
      "execution_count": 69,
      "outputs": [
        {
          "output_type": "stream",
          "name": "stdout",
          "text": [
            "Epoch 0: traing loss: 0.9731733202934265\n",
            "Epoch 1: traing loss: 0.6796011328697205\n",
            "Epoch 2: traing loss: 0.5342353582382202\n",
            "Epoch 3: traing loss: 0.4079833924770355\n",
            "Epoch 4: traing loss: 0.29385906457901\n",
            "Epoch 5: traing loss: 0.19775934517383575\n",
            "Epoch 6: traing loss: 0.12216509133577347\n",
            "Epoch 7: traing loss: 0.06895024329423904\n",
            "Epoch 8: traing loss: 0.036550313234329224\n",
            "Epoch 9: traing loss: 0.019098177552223206\n"
          ]
        }
      ]
    },
    {
      "cell_type": "markdown",
      "source": [
        "You can see that our loss is decreasing. Let's check the predictions of our model now and see if they are close to our original `y`, which was all 1s."
      ],
      "metadata": {
        "id": "rk09Pf34MTBI"
      },
      "id": "rk09Pf34MTBI"
    },
    {
      "cell_type": "code",
      "source": [
        "# See how our model performs on the training data\n",
        "y_pred = model(x)\n",
        "y_pred"
      ],
      "metadata": {
        "colab": {
          "base_uri": "https://localhost:8080/"
        },
        "id": "Fd-ahDRvMPxL",
        "outputId": "cfc8fcd3-732e-481f-abbe-ed927e39ede2"
      },
      "id": "Fd-ahDRvMPxL",
      "execution_count": 70,
      "outputs": [
        {
          "output_type": "execute_result",
          "data": {
            "text/plain": [
              "tensor([[0.9999, 1.0000, 1.0000, 1.0000, 0.9948],\n",
              "        [0.9947, 0.9993, 0.9997, 0.9997, 0.9581],\n",
              "        [0.9982, 0.9999, 0.9999, 1.0000, 0.9774],\n",
              "        [0.9992, 1.0000, 1.0000, 1.0000, 0.9856],\n",
              "        [0.9997, 1.0000, 1.0000, 1.0000, 0.9912],\n",
              "        [0.9974, 0.9998, 0.9999, 0.9999, 0.9721],\n",
              "        [0.9983, 0.9999, 1.0000, 1.0000, 0.9780],\n",
              "        [0.9416, 0.9773, 0.9881, 0.9842, 0.8457],\n",
              "        [1.0000, 1.0000, 1.0000, 1.0000, 0.9975],\n",
              "        [0.9906, 0.9984, 0.9993, 0.9993, 0.9423]], grad_fn=<SigmoidBackward0>)"
            ]
          },
          "metadata": {},
          "execution_count": 70
        }
      ]
    },
    {
      "cell_type": "code",
      "source": [
        "# Create test data and check how our model performs on it\n",
        "x2 = y + torch.randn_like(y)\n",
        "y_pred = model(x2)\n",
        "y_pred"
      ],
      "metadata": {
        "colab": {
          "base_uri": "https://localhost:8080/"
        },
        "id": "iK4g5YfuMdTm",
        "outputId": "1ede7adc-32fa-4de7-fc43-d2d5b052ac65"
      },
      "id": "iK4g5YfuMdTm",
      "execution_count": 71,
      "outputs": [
        {
          "output_type": "execute_result",
          "data": {
            "text/plain": [
              "tensor([[0.9467, 0.9802, 0.9897, 0.9865, 0.8529],\n",
              "        [0.9996, 1.0000, 1.0000, 1.0000, 0.9904],\n",
              "        [0.9999, 1.0000, 1.0000, 1.0000, 0.9958],\n",
              "        [0.9595, 0.9868, 0.9934, 0.9915, 0.8727],\n",
              "        [0.7757, 0.8258, 0.8876, 0.8313, 0.6913],\n",
              "        [0.9933, 0.9990, 0.9996, 0.9996, 0.9520],\n",
              "        [0.9987, 0.9999, 1.0000, 1.0000, 0.9809],\n",
              "        [0.9776, 0.9944, 0.9974, 0.9969, 0.9073],\n",
              "        [0.9609, 0.9874, 0.9937, 0.9920, 0.8750],\n",
              "        [0.9957, 0.9995, 0.9998, 0.9998, 0.9626]], grad_fn=<SigmoidBackward0>)"
            ]
          },
          "metadata": {},
          "execution_count": 71
        }
      ]
    },
    {
      "cell_type": "markdown",
      "source": [
        "Great! Looks like our model almost perfectly learned to filter out the noise from the `x` that we passed in!"
      ],
      "metadata": {
        "id": "KPa4ragXMn4t"
      },
      "id": "KPa4ragXMn4t"
    },
    {
      "cell_type": "code",
      "source": [
        ""
      ],
      "metadata": {
        "id": "vKk-zzWIMhNw"
      },
      "id": "vKk-zzWIMhNw",
      "execution_count": null,
      "outputs": []
    }
  ],
  "metadata": {
    "kernelspec": {
      "display_name": "cs224n",
      "language": "python",
      "name": "cs224n"
    },
    "language_info": {
      "codemirror_mode": {
        "name": "ipython",
        "version": 3
      },
      "file_extension": ".py",
      "mimetype": "text/x-python",
      "name": "python",
      "nbconvert_exporter": "python",
      "pygments_lexer": "ipython3",
      "version": "3.7.9"
    },
    "colab": {
      "name": "CS224N PyTorch Tutorial.ipynb",
      "provenance": [],
      "toc_visible": true,
      "include_colab_link": true
    }
  },
  "nbformat": 4,
  "nbformat_minor": 5
}