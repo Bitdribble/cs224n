{
  "cells": [
    {
      "cell_type": "markdown",
      "metadata": {
        "id": "view-in-github",
        "colab_type": "text"
      },
      "source": [
        "<a href=\"https://colab.research.google.com/github/Bitdribble/cs224n/blob/main/CS224N%20PyTorch%20Tutorial%202.ipynb\" target=\"_parent\"><img src=\"https://colab.research.google.com/assets/colab-badge.svg\" alt=\"Open In Colab\"/></a>"
      ]
    },
    {
      "cell_type": "markdown",
      "id": "perceived-donor",
      "metadata": {
        "id": "perceived-donor"
      },
      "source": [
        "# CS224N: PyTorch Tutorial 2 (Winter '21)\n",
        "\n",
        "Author: Dilara Soylu\n",
        "\n"
      ]
    },
    {
      "cell_type": "markdown",
      "source": [
        "# Demo: Word Window Classification\n",
        "\n",
        "In Part 1, we have learned the fundamentals of `PyTorch` and built a basic network solving a toy task. Now we will attempt to solve an example `NLP` task. Here are the things we will learn:\n",
        "\n",
        "* __Data:__ Creating a Dataset of Batched Tensors\n",
        "* __Modeling__\n",
        "* __Training__\n",
        "* __Prediction__\n",
        "\n",
        "In this section, our goal will be to train a model that will find the words in a sentence corresponding to a `LOCATION`, which will be always of span 1 (meaning that San Fransisco won't be recognized as a `LOCATION`). Our task is called `Word Window Classification` for a reason. Instead of letting our model to only take a look at one word in each forward pass, we would like it to be able to consider the context of the word in question. That is, for each word, we want our model to be aware of the surrounding words. Let's dive in!"
      ],
      "metadata": {
        "id": "sL4qMpEOk0hS"
      },
      "id": "sL4qMpEOk0hS"
    },
    {
      "cell_type": "code",
      "execution_count": 1,
      "id": "hindu-wales",
      "metadata": {
        "id": "hindu-wales"
      },
      "outputs": [],
      "source": [
        "# Import the modules needed for this model\n",
        "import numpy as np\n",
        "import torch\n",
        "import torch.nn as nn\n",
        "\n",
        "# Import pprint, module we use for making our print statements prettier\n",
        "import pprint\n",
        "pp = pprint.PrettyPrinter()"
      ]
    },
    {
      "cell_type": "markdown",
      "source": [
        "\n",
        "## Data\n",
        "\n",
        "The very first task of any machine learning project is to set up our training set. Usually, there will be a training corpus we will be utilizing. In `NLP` tasks, the corpus would generally be a `.txt` or `.csv` file where each row corresponds to a sentence or a tabular datapoint. In our toy task, we will assume that we have already read our data and the corresponding labels into a Python list.\n"
      ],
      "metadata": {
        "id": "BZ1XetpOlPow"
      },
      "id": "BZ1XetpOlPow"
    },
    {
      "cell_type": "code",
      "source": [
        "# Our raw data, which consists of sentences\n",
        "corpus = [\n",
        "          \"We always come to Paris\",\n",
        "          \"The professor is from Australia\",\n",
        "          \"I live in Stanford\",\n",
        "          \"He comes from Taiwan\",\n",
        "          \"The capital of Turkey is Ankara\"\n",
        "         ]"
      ],
      "metadata": {
        "id": "fOy5UKS8la7i"
      },
      "id": "fOy5UKS8la7i",
      "execution_count": 2,
      "outputs": []
    },
    {
      "cell_type": "markdown",
      "source": [
        "## Preprocessing\n",
        "\n",
        "To make it easier for our models to learn, we usually apply a few preprocessing steps to our data. This is especially important when dealing with text data. Here are some examples of text preprocessing:\n",
        "\n",
        "* __Tokenization__: Tokenizing the sentences into words.\n",
        "* __Lowercasing__: Changing all the letters to be lowercase.\n",
        "* __Noise removal__: Removing special characters (such as punctuations).\n",
        "* __Stop words removal__: Removing commonly used words.\n",
        "\n",
        "Which preprocessing steps are necessary is determined by the task at hand. For example, although it is useful to remove special characters in some tasks, for others they may be important (for example, if we are dealing with multiple languages). For our task, we will lowercase our words and tokenize.\n"
      ],
      "metadata": {
        "id": "XozrtolJlpfd"
      },
      "id": "XozrtolJlpfd"
    },
    {
      "cell_type": "code",
      "source": [
        "# The preprocessing function we will use to generate our training examples\n",
        "# Our function is a simple one, we lowercase the letters\n",
        "# and then tokenize the words.\n",
        "def preprocess_sentence(sentence):\n",
        "  return sentence.lower().split()\n",
        "\n",
        "# Create our training set\n",
        "train_sentences = [sent.lower().split() for sent in corpus]\n",
        "train_sentences\n"
      ],
      "metadata": {
        "id": "uUe-Xtd8lhmX",
        "outputId": "94810a14-e3e2-4b55-edac-f7bf304ee20d",
        "colab": {
          "base_uri": "https://localhost:8080/"
        }
      },
      "id": "uUe-Xtd8lhmX",
      "execution_count": 3,
      "outputs": [
        {
          "output_type": "execute_result",
          "data": {
            "text/plain": [
              "[['we', 'always', 'come', 'to', 'paris'],\n",
              " ['the', 'professor', 'is', 'from', 'australia'],\n",
              " ['i', 'live', 'in', 'stanford'],\n",
              " ['he', 'comes', 'from', 'taiwan'],\n",
              " ['the', 'capital', 'of', 'turkey', 'is', 'ankara']]"
            ]
          },
          "metadata": {},
          "execution_count": 3
        }
      ]
    },
    {
      "cell_type": "markdown",
      "source": [
        "For each training example we have, we should also have a corresponding label. Recall that the goal of our model was to determine which words correspond to a `LOCATION`. That is, we want our model to output `0` for all the words that are not `LOCATIONs` and `1` for the ones that are `LOCATIONs`."
      ],
      "metadata": {
        "id": "PyTSRJO4mBmh"
      },
      "id": "PyTSRJO4mBmh"
    },
    {
      "cell_type": "code",
      "source": [
        "# Set of locations that appear in our corpus\n",
        "locations = set([\"australia\", \"ankara\", \"paris\", \"stanford\", \"taiwan\", \"turkey\"])\n",
        "\n",
        "# Our train labels\n",
        "train_labels = [[1 if word in locations else 0 for word in sent] for sent in train_sentences]\n",
        "train_labels"
      ],
      "metadata": {
        "id": "EHal668nmSEw",
        "outputId": "4b80ff2b-4488-4d09-90a5-08789a04152d",
        "colab": {
          "base_uri": "https://localhost:8080/"
        }
      },
      "id": "EHal668nmSEw",
      "execution_count": 4,
      "outputs": [
        {
          "output_type": "execute_result",
          "data": {
            "text/plain": [
              "[[0, 0, 0, 0, 1],\n",
              " [0, 0, 0, 0, 1],\n",
              " [0, 0, 0, 1],\n",
              " [0, 0, 0, 1],\n",
              " [0, 0, 0, 1, 0, 1]]"
            ]
          },
          "metadata": {},
          "execution_count": 4
        }
      ]
    },
    {
      "cell_type": "markdown",
      "source": [
        "\n",
        "## Converting Words to Embeddings\n",
        "\n",
        "Let's look at our training data a little more closely. Each datapoint we have is a sequence of words. On the other hand, we know that machine learning models work with numbers in vectors. How are we going to turn words into numbers? You may be thinking embeddings and you are right!\n",
        "\n",
        "Imagine that we have an embedding lookup table E, where each row corresponds to an embedding. That is, each word in our vocabulary would have a corresponding embedding row i in this table. Whenever we want to find an embedding for a word, we will follow these steps:\n",
        "\n",
        "* Find the corresponding index i of the word in the embedding table: `word->index`.\n",
        "* Index into the embedding table and get the embedding: `index->embedding`.\n",
        "\n",
        "Let's look at the first step. We should assign all the words in our vocabulary to a corresponding index. We can do it as follows:\n",
        "\n",
        "* Find all the unique words in our corpus.\n",
        "* Assign an index to each.\n",
        "\n"
      ],
      "metadata": {
        "id": "gI9l6a3YmgcQ"
      },
      "id": "gI9l6a3YmgcQ"
    },
    {
      "cell_type": "code",
      "source": [
        "# Find all the unique words in our corpus \n",
        "vocabulary = set(w for s in train_sentences for w in s)\n",
        "vocabulary"
      ],
      "metadata": {
        "id": "jgHo5Y_dmuXe",
        "outputId": "28cfb918-ce6c-4f16-8d2b-601a76fdecc3",
        "colab": {
          "base_uri": "https://localhost:8080/"
        }
      },
      "id": "jgHo5Y_dmuXe",
      "execution_count": 5,
      "outputs": [
        {
          "output_type": "execute_result",
          "data": {
            "text/plain": [
              "{'always',\n",
              " 'ankara',\n",
              " 'australia',\n",
              " 'capital',\n",
              " 'come',\n",
              " 'comes',\n",
              " 'from',\n",
              " 'he',\n",
              " 'i',\n",
              " 'in',\n",
              " 'is',\n",
              " 'live',\n",
              " 'of',\n",
              " 'paris',\n",
              " 'professor',\n",
              " 'stanford',\n",
              " 'taiwan',\n",
              " 'the',\n",
              " 'to',\n",
              " 'turkey',\n",
              " 'we'}"
            ]
          },
          "metadata": {},
          "execution_count": 5
        }
      ]
    },
    {
      "cell_type": "markdown",
      "source": [
        "Our `vocabulary` now contains all the words in our corpus. On the other hand, during the test time, we can see words that are not contained in our vocabulary. If we can figure out a way to represent the unknown words, our model can still reason about whether they are a `LOCATION` or not, since we are also looking at the neighboring words for each prediction.\n",
        "\n",
        "We introduce a special token, `<unk>`, to tackle the words that are out of vocabulary. We could pick another string for our unknown token if we wanted. The only requirement here is that our token should be unique: we should only be using this token for unknown words. We will also add this special token to our vocabulary.\n"
      ],
      "metadata": {
        "id": "jLpshKjIm5pI"
      },
      "id": "jLpshKjIm5pI"
    },
    {
      "cell_type": "code",
      "source": [
        "# Add the unknown token to our vocabulary\n",
        "vocabulary.add(\"<unk>\")"
      ],
      "metadata": {
        "id": "s2HdfjZbnFq1"
      },
      "id": "s2HdfjZbnFq1",
      "execution_count": 6,
      "outputs": []
    },
    {
      "cell_type": "markdown",
      "source": [
        "\n",
        "\n",
        "Earlier we mentioned that our task was called `Word Window Classification` because our model is looking at the surroundings words in addition to the given word when it needs to make a prediction.\n",
        "\n",
        "For example, let's take the sentence `\"We always come to Paris\"`. The corresponding training label for this sentence is `0, 0, 0, 0, 1` since only Paris, the last word, is a `LOCATION`. In one pass (meaning a call to `forward()`), our model will try to generate the correct label for one word. Let's say our model is trying to generate the correct label `1` for `Paris`. If we only allow our model to see `Paris`, but nothing else, we will miss out on the important information that the word to often times appears with `LOCATIONs`.\n",
        "\n",
        "Word windows allow our model to consider the surrounding `+N` or `-N` words of each word when making a prediction. In our earlier example for `Paris`, if we have a window size of `1`, that means our model will look at the words that come immediately before and after `Paris`, which are to, and, well, nothing. Now, this raises another issue. `Paris` is at the end of our sentence, so there isn't another word following it. Remember that we define the input dimensions of our `PyTorch` models when we are initializing them. If we set the window size to be `1`, it means that our model will be accepting `3` words in every pass. We cannot have our model expect `2` words from time to time.\n",
        "\n",
        "The solution is to introduce a special token, such as `<pad>`, that will be added to our sentences to make sure that every word has a valid window around them. Similar to `<unk>` token, we could pick another string for our pad token if we wanted, as long as we make sure it is used for a unique purpose.\n"
      ],
      "metadata": {
        "id": "nsYRBP_rnWkw"
      },
      "id": "nsYRBP_rnWkw"
    },
    {
      "cell_type": "code",
      "source": [
        "# Add the <pad> token to our vocabulary\n",
        "vocabulary.add(\"<pad>\")\n",
        "\n",
        "# Function that pads the given sentence\n",
        "# We are introducing this function here as an example\n",
        "# We will be utilizing it later in the tutorial\n",
        "def pad_window(sentence, window_size, pad_token=\"<pad>\"):\n",
        "  window = [pad_token] * window_size\n",
        "  return window + sentence + window\n",
        "\n",
        "# Show padding example\n",
        "window_size = 2\n",
        "pad_window(train_sentences[0], window_size=window_size)"
      ],
      "metadata": {
        "id": "h8kAjUPwnzu3",
        "outputId": "ecb93744-2a85-4324-e6d3-3d1e266feeb7",
        "colab": {
          "base_uri": "https://localhost:8080/"
        }
      },
      "id": "h8kAjUPwnzu3",
      "execution_count": 7,
      "outputs": [
        {
          "output_type": "execute_result",
          "data": {
            "text/plain": [
              "['<pad>', '<pad>', 'we', 'always', 'come', 'to', 'paris', '<pad>', '<pad>']"
            ]
          },
          "metadata": {},
          "execution_count": 7
        }
      ]
    },
    {
      "cell_type": "markdown",
      "source": [
        "Now that our vocabularly is ready, let's assign an index to each of our words."
      ],
      "metadata": {
        "id": "aDHpw8cLn3Fb"
      },
      "id": "aDHpw8cLn3Fb"
    },
    {
      "cell_type": "code",
      "source": [
        "# We are just converting our vocabularly to a list to be able to index into it\n",
        "# Sorting is not necessary, we sort to show an ordered word_to_ind dictionary\n",
        "# That being said, we will see that having the index for the padding token\n",
        "# be 0 is convenient as some PyTorch functions use it as a default value\n",
        "# such as nn.utils.rnn.pad_sequence, which we will cover in a bit\n",
        "ix_to_word = sorted(list(vocabulary))\n",
        "\n",
        "# Creating a dictionary to find the index of a given word\n",
        "word_to_ix = {word: ind for ind, word in enumerate(ix_to_word)}\n",
        "word_to_ix"
      ],
      "metadata": {
        "id": "bDsgOfpbn69m",
        "outputId": "aae711ee-3dba-4577-daef-5a07a3736d76",
        "colab": {
          "base_uri": "https://localhost:8080/"
        }
      },
      "id": "bDsgOfpbn69m",
      "execution_count": 8,
      "outputs": [
        {
          "output_type": "execute_result",
          "data": {
            "text/plain": [
              "{'<pad>': 0,\n",
              " '<unk>': 1,\n",
              " 'always': 2,\n",
              " 'ankara': 3,\n",
              " 'australia': 4,\n",
              " 'capital': 5,\n",
              " 'come': 6,\n",
              " 'comes': 7,\n",
              " 'from': 8,\n",
              " 'he': 9,\n",
              " 'i': 10,\n",
              " 'in': 11,\n",
              " 'is': 12,\n",
              " 'live': 13,\n",
              " 'of': 14,\n",
              " 'paris': 15,\n",
              " 'professor': 16,\n",
              " 'stanford': 17,\n",
              " 'taiwan': 18,\n",
              " 'the': 19,\n",
              " 'to': 20,\n",
              " 'turkey': 21,\n",
              " 'we': 22}"
            ]
          },
          "metadata": {},
          "execution_count": 8
        }
      ]
    },
    {
      "cell_type": "markdown",
      "source": [
        "Great! We are ready to convert our training sentences into a sequence of indices corresponding to each token."
      ],
      "metadata": {
        "id": "FFJvmnW0oB3D"
      },
      "id": "FFJvmnW0oB3D"
    },
    {
      "cell_type": "code",
      "source": [
        "# Given a sentence of tokens, return the corresponding indices\n",
        "def convert_token_to_indices(sentence, word_to_ix):\n",
        "  indices = []\n",
        "  for token in sentence:\n",
        "    # Check if the token is in our vocabularly. If it is, get it's index. \n",
        "    # If not, get the index for the unknown token.\n",
        "    if token in word_to_ix:\n",
        "      index = word_to_ix[token]\n",
        "    else:\n",
        "      index = word_to_ix[\"<unk>\"]\n",
        "    indices.append(index)\n",
        "  return indices\n",
        "\n",
        "# More compact version of the same function\n",
        "def _convert_token_to_indices(sentence, word_to_ix):\n",
        "  return [word_to_ind.get(token, word_to_ix[\"<unk>\"]) for token in sentence]\n",
        "\n",
        "# Show an example\n",
        "example_sentence = [\"we\", \"always\", \"come\", \"to\", \"kuwait\"]\n",
        "example_indices = convert_token_to_indices(example_sentence, word_to_ix)\n",
        "restored_example = [ix_to_word[ind] for ind in example_indices]\n",
        "\n",
        "print(f\"Original sentence is: {example_sentence}\")\n",
        "print(f\"Going from words to indices: {example_indices}\")\n",
        "print(f\"Going from indices to words: {restored_example}\")"
      ],
      "metadata": {
        "id": "wNSTBXCQoVtB",
        "outputId": "a9dbda64-8217-41d3-a803-9b68813f64cd",
        "colab": {
          "base_uri": "https://localhost:8080/"
        }
      },
      "id": "wNSTBXCQoVtB",
      "execution_count": 9,
      "outputs": [
        {
          "output_type": "stream",
          "name": "stdout",
          "text": [
            "Original sentence is: ['we', 'always', 'come', 'to', 'kuwait']\n",
            "Going from words to indices: [22, 2, 6, 20, 1]\n",
            "Going from indices to words: ['we', 'always', 'come', 'to', '<unk>']\n"
          ]
        }
      ]
    },
    {
      "cell_type": "markdown",
      "source": [
        "In the example above, `kuwait` shows up as `<unk>`, because it is not included in our vocabulary. Let's convert our `train_sentences` to `example_padded_indices`."
      ],
      "metadata": {
        "id": "YmMy58qaoaVC"
      },
      "id": "YmMy58qaoaVC"
    },
    {
      "cell_type": "code",
      "source": [
        "# Converting our sentences to indices\n",
        "example_padded_indices = [convert_token_to_indices(s, word_to_ix) for s in train_sentences]\n",
        "example_padded_indices"
      ],
      "metadata": {
        "id": "gRdZIqm4omTq",
        "outputId": "9607b4da-7824-40c1-a80a-2943bd9ad62b",
        "colab": {
          "base_uri": "https://localhost:8080/"
        }
      },
      "id": "gRdZIqm4omTq",
      "execution_count": 10,
      "outputs": [
        {
          "output_type": "execute_result",
          "data": {
            "text/plain": [
              "[[22, 2, 6, 20, 15],\n",
              " [19, 16, 12, 8, 4],\n",
              " [10, 13, 11, 17],\n",
              " [9, 7, 8, 18],\n",
              " [19, 5, 14, 21, 12, 3]]"
            ]
          },
          "metadata": {},
          "execution_count": 10
        }
      ]
    },
    {
      "cell_type": "markdown",
      "source": [
        "Now that we have an index for each word in our vocabularly, we can create an embedding table with `nn.Embedding` class in `PyTorch`. It is called as follows `nn.Embedding(num_words, embedding_dimension)` where `num_words` is the number of words in our vocabulary and the `embedding_dimension` is the dimension of the embeddings we want to have. There is nothing fancy about `nn.Embedding`: it is just a wrapper class around a trainable `NxE` dimensional tensor, where `N` is the number of words in our vocabulary and `E` is the number of embedding dimensions. This table is initially random, but it will change over time. As we train our network, the gradients will be backpropagated all the way to the embedding layer, and hence our word embeddings would be updated. We will initiliaze the embedding layer we will use for our model in our model, but we are showing an example here."
      ],
      "metadata": {
        "id": "UwlEGtBFo0Kn"
      },
      "id": "UwlEGtBFo0Kn"
    },
    {
      "cell_type": "code",
      "source": [
        "# Creating an embedding table for our words\n",
        "embedding_dim = 5\n",
        "embeds = nn.Embedding(len(vocabulary), embedding_dim)\n",
        "\n",
        "# Printing the parameters in our embedding table\n",
        "list(embeds.parameters())"
      ],
      "metadata": {
        "id": "NWIU_NZwoz0N",
        "outputId": "b3a927a3-2ed8-4279-d0c8-e3a1345a9322",
        "colab": {
          "base_uri": "https://localhost:8080/"
        }
      },
      "id": "NWIU_NZwoz0N",
      "execution_count": 11,
      "outputs": [
        {
          "output_type": "execute_result",
          "data": {
            "text/plain": [
              "[Parameter containing:\n",
              " tensor([[ 1.2321e+00,  7.0312e-02,  8.0387e-01, -7.1906e-01, -1.0017e+00],\n",
              "         [-8.7841e-01, -5.7260e-01, -1.9145e+00,  5.4771e-02,  1.0352e+00],\n",
              "         [-1.4863e+00, -1.3320e-01,  5.1505e-04, -2.0116e-02, -1.8330e+00],\n",
              "         [ 6.8200e-01,  1.0284e+00,  8.1365e-01,  1.1594e+00,  7.0505e-02],\n",
              "         [ 3.9217e-01,  8.6443e-01, -8.7977e-01, -1.2098e+00,  1.6843e-01],\n",
              "         [ 6.6713e-01, -1.0557e+00, -1.2737e+00, -6.0799e-01, -7.9604e-01],\n",
              "         [-7.2629e-01,  6.2264e-01,  4.5485e-01, -1.0018e+00,  6.9668e-01],\n",
              "         [-4.3816e-01, -8.7931e-01,  1.5476e-02,  8.3183e-01, -7.1465e-02],\n",
              "         [-9.1654e-01, -3.3562e-01, -1.0464e+00,  1.2671e+00,  1.5071e+00],\n",
              "         [-2.9265e-01,  1.3075e+00,  1.8767e-01, -1.0563e+00,  3.0325e-03],\n",
              "         [-3.7486e-01, -3.5294e-02,  3.9100e-01,  5.7393e-01, -5.5638e-01],\n",
              "         [-1.2406e+00,  8.9489e-01, -6.1168e-02,  9.3157e-01, -3.1387e+00],\n",
              "         [ 1.1385e+00,  7.7456e-01, -7.8952e-02,  7.8500e-01,  7.4874e-01],\n",
              "         [-8.4089e-01, -1.2031e+00,  9.5558e-01,  8.6546e-01,  5.6872e-01],\n",
              "         [-8.4165e-01,  2.1755e+00,  1.3871e+00, -3.3335e-01, -9.6437e-01],\n",
              "         [-1.9979e+00,  1.6998e-01,  1.1845e+00, -6.3822e-01, -1.7592e+00],\n",
              "         [-1.6541e+00,  4.3513e-01, -9.7106e-01, -1.8969e+00, -1.0387e+00],\n",
              "         [ 7.5060e-01,  5.6700e-01,  1.0551e+00, -1.5780e-01, -7.2579e-01],\n",
              "         [-6.5000e-01,  9.1752e-01,  1.3515e+00, -2.2349e-01, -2.3067e+00],\n",
              "         [ 8.3680e-01,  2.6555e+00, -5.8006e-01, -1.5311e+00,  7.8891e-01],\n",
              "         [ 6.0358e-02, -1.6111e+00, -2.3925e-01, -9.7224e-01, -3.8113e-02],\n",
              "         [-3.8527e-01,  4.6284e-01,  8.9097e-01,  4.9189e-01, -3.3235e-01],\n",
              "         [-7.0244e-02, -2.9496e+00,  9.2414e-01,  2.8057e+00,  1.4053e-01]],\n",
              "        requires_grad=True)]"
            ]
          },
          "metadata": {},
          "execution_count": 11
        }
      ]
    },
    {
      "cell_type": "markdown",
      "source": [
        "To get the word embedding for a word in our vocabulary, all we need to do is to create a lookup tensor. The lookup tensor is just a tensor containing the index we want to look up `nn.Embedding` class expects an index tensor that is of type `Long Tensor`, so we should create our tensor accordingly."
      ],
      "metadata": {
        "id": "dxs2-T3PpPyU"
      },
      "id": "dxs2-T3PpPyU"
    },
    {
      "cell_type": "code",
      "source": [
        "# Get the embedding for the word Paris\n",
        "index = word_to_ix[\"paris\"]\n",
        "index_tensor = torch.tensor(index, dtype=torch.long)\n",
        "paris_embed = embeds(index_tensor)\n",
        "paris_embed, index"
      ],
      "metadata": {
        "id": "X3GdOX-RpZhr",
        "outputId": "5c121847-f2ad-4dba-ce08-8ceec3f1638d",
        "colab": {
          "base_uri": "https://localhost:8080/"
        }
      },
      "id": "X3GdOX-RpZhr",
      "execution_count": 12,
      "outputs": [
        {
          "output_type": "execute_result",
          "data": {
            "text/plain": [
              "(tensor([-1.9979,  0.1700,  1.1845, -0.6382, -1.7592],\n",
              "        grad_fn=<EmbeddingBackward0>), 15)"
            ]
          },
          "metadata": {},
          "execution_count": 12
        }
      ]
    },
    {
      "cell_type": "code",
      "source": [
        "# We can also get multiple embeddings at once\n",
        "index_paris = word_to_ix[\"paris\"]\n",
        "index_ankara = word_to_ix[\"ankara\"]\n",
        "indices = [index_paris, index_ankara]\n",
        "indices_tensor = torch.tensor(indices, dtype=torch.long)\n",
        "embeddings = embeds(indices_tensor)\n",
        "embeddings"
      ],
      "metadata": {
        "id": "TG-HcK_SpedK",
        "outputId": "bc621ea5-ae50-4e3f-c48f-226b0ec39b6f",
        "colab": {
          "base_uri": "https://localhost:8080/"
        }
      },
      "id": "TG-HcK_SpedK",
      "execution_count": 13,
      "outputs": [
        {
          "output_type": "execute_result",
          "data": {
            "text/plain": [
              "tensor([[-1.9979,  0.1700,  1.1845, -0.6382, -1.7592],\n",
              "        [ 0.6820,  1.0284,  0.8136,  1.1594,  0.0705]],\n",
              "       grad_fn=<EmbeddingBackward0>)"
            ]
          },
          "metadata": {},
          "execution_count": 13
        }
      ]
    },
    {
      "cell_type": "markdown",
      "source": [
        "Usually, we define the embedding layer as part of our model, which you will see in the later sections of our notebook."
      ],
      "metadata": {
        "id": "uNqOKyWRpjKs"
      },
      "id": "uNqOKyWRpjKs"
    },
    {
      "cell_type": "code",
      "source": [
        "from torch.utils.data import DataLoader\n",
        "from functools import partial\n",
        "\n",
        "def custom_collate_fn(batch, window_size, word_to_ix):\n",
        "  # Break our batch into the training examples (x) and labels (y)\n",
        "  # We are turning our x and y into tensors because nn.utils.rnn.pad_sequence\n",
        "  # method expects tensors. This is also useful since our model will be\n",
        "  # expecting tensor inputs. \n",
        "  x, y = zip(*batch)\n",
        "\n",
        "  # Now we need to window pad our training examples. We have already defined a \n",
        "  # function to handle window padding. We are including it here again so that\n",
        "  # everything is in one place.\n",
        "  def pad_window(sentence, window_size, pad_token=\"<pad>\"):\n",
        "    window = [pad_token] * window_size\n",
        "    return window + sentence + window\n",
        "\n",
        "  # Pad the train examples.\n",
        "  x = [pad_window(s, window_size=window_size) for s in x]\n",
        "\n",
        "  # Now we need to turn words in our training examples to indices. We are\n",
        "  # copying the function defined earlier for the same reason as above.\n",
        "  def convert_tokens_to_indices(sentence, word_to_ix):\n",
        "    return [word_to_ix.get(token, word_to_ix[\"<unk>\"]) for token in sentence]\n",
        "\n",
        "  # Convert the train examples into indices.\n",
        "  x = [convert_tokens_to_indices(s, word_to_ix) for s in x]\n",
        "\n",
        "  # We will now pad the examples so that the lengths of all the example in \n",
        "  # one batch are the same, making it possible to do matrix operations. \n",
        "  # We set the batch_first parameter to True so that the returned matrix has \n",
        "  # the batch as the first dimension.\n",
        "  pad_token_ix = word_to_ix[\"<pad>\"]\n",
        "\n",
        "  # pad_sequence function expects the input to be a tensor, so we turn x into one\n",
        "  x = [torch.LongTensor(x_i) for x_i in x]\n",
        "  x_padded = nn.utils.rnn.pad_sequence(x, batch_first=True, padding_value=pad_token_ix)\n",
        "\n",
        "  # We will also pad the labels. Before doing so, we will record the number \n",
        "  # of labels so that we know how many words existed in each example. \n",
        "  lengths = [len(label) for label in y]\n",
        "  lenghts = torch.LongTensor(lengths)\n",
        "\n",
        "  y = [torch.LongTensor(y_i) for y_i in y]\n",
        "  y_padded = nn.utils.rnn.pad_sequence(y, batch_first=True, padding_value=0)\n",
        "\n",
        "  # We are now ready to return our variables. The order we return our variables\n",
        "  # here will match the order we read them in our training loop.\n",
        "  return x_padded, y_padded, lenghts  "
      ],
      "metadata": {
        "id": "judyxTgTplRk"
      },
      "id": "judyxTgTplRk",
      "execution_count": 14,
      "outputs": []
    },
    {
      "cell_type": "markdown",
      "source": [
        "This function seems long, but it really doesn't have to be. Check out the alternative version below where we remove the extra function declarations and comments."
      ],
      "metadata": {
        "id": "xFn0AkslrW5U"
      },
      "id": "xFn0AkslrW5U"
    },
    {
      "cell_type": "code",
      "source": [
        "def _custom_collate_fn(batch, window_size, word_to_ix):\n",
        "  # Prepare the datapoints\n",
        "  x, y = zip(*batch)  \n",
        "  x = [pad_window(s, window_size=window_size) for s in x]\n",
        "  x = [convert_tokens_to_indices(s, word_to_ix) for s in x]\n",
        "\n",
        "  # Pad x so that all the examples in the batch have the same size\n",
        "  pad_token_ix = word_to_ix[\"<pad>\"]\n",
        "  x = [torch.LongTensor(x_i) for x_i in x]\n",
        "  x_padded = nn.utils.rnn.pad_sequence(x, batch_first=True, padding_value=pad_token_ix)\n",
        "\n",
        "  # Pad y and record the length\n",
        "  lengths = [len(label) for label in y]\n",
        "  lenghts = torch.LongTensor(lengths)\n",
        "  y = [torch.LongTensor(y_i) for y_i in y]\n",
        "  y_padded = nn.utils.rnn.pad_sequence(y, batch_first=True, padding_value=0)\n",
        "\n",
        "  return x_padded, y_padded, lenghts  "
      ],
      "metadata": {
        "id": "Yrz0deUMrYXw"
      },
      "id": "Yrz0deUMrYXw",
      "execution_count": 15,
      "outputs": []
    },
    {
      "cell_type": "markdown",
      "source": [
        "Now, we can see the `DataLoader` in action."
      ],
      "metadata": {
        "id": "jJazmlr5refM"
      },
      "id": "jJazmlr5refM"
    },
    {
      "cell_type": "code",
      "source": [
        "# Parameters to be passed to the DataLoader\n",
        "data = list(zip(train_sentences, train_labels))\n",
        "batch_size = 2\n",
        "shuffle = True\n",
        "window_size = 2\n",
        "collate_fn = partial(custom_collate_fn, window_size=window_size, word_to_ix=word_to_ix)\n",
        "\n",
        "# Instantiate the DataLoader\n",
        "loader = DataLoader(data, batch_size=batch_size, shuffle=shuffle, collate_fn=collate_fn)\n",
        "\n",
        "# Go through one loop\n",
        "counter = 0\n",
        "for batched_x, batched_y, batched_lengths in loader:\n",
        "  print(f\"Iteration {counter}\")\n",
        "  print(\"Batched Input:\")\n",
        "  print(batched_x)\n",
        "  print(\"Batched Labels:\")\n",
        "  print(batched_y)\n",
        "  print(\"Batched Lengths:\")\n",
        "  print(batched_lengths)\n",
        "  print(\"\")\n",
        "  counter += 1"
      ],
      "metadata": {
        "id": "Y40Ze4K_riLp",
        "outputId": "3a913c6d-30a8-4153-fcf7-439e8e51d06f",
        "colab": {
          "base_uri": "https://localhost:8080/"
        }
      },
      "id": "Y40Ze4K_riLp",
      "execution_count": 26,
      "outputs": [
        {
          "output_type": "stream",
          "name": "stdout",
          "text": [
            "Iteration 0\n",
            "Batched Input:\n",
            "tensor([[ 0,  0, 22,  2,  6, 20, 15,  0,  0],\n",
            "        [ 0,  0,  9,  7,  8, 18,  0,  0,  0]])\n",
            "Batched Labels:\n",
            "tensor([[0, 0, 0, 0, 1],\n",
            "        [0, 0, 0, 1, 0]])\n",
            "Batched Lengths:\n",
            "tensor([5, 4])\n",
            "\n",
            "Iteration 1\n",
            "Batched Input:\n",
            "tensor([[ 0,  0, 10, 13, 11, 17,  0,  0,  0],\n",
            "        [ 0,  0, 19, 16, 12,  8,  4,  0,  0]])\n",
            "Batched Labels:\n",
            "tensor([[0, 0, 0, 1, 0],\n",
            "        [0, 0, 0, 0, 1]])\n",
            "Batched Lengths:\n",
            "tensor([4, 5])\n",
            "\n",
            "Iteration 2\n",
            "Batched Input:\n",
            "tensor([[ 0,  0, 19,  5, 14, 21, 12,  3,  0,  0]])\n",
            "Batched Labels:\n",
            "tensor([[0, 0, 0, 1, 0, 1]])\n",
            "Batched Lengths:\n",
            "tensor([6])\n",
            "\n"
          ]
        }
      ]
    },
    {
      "cell_type": "markdown",
      "source": [
        "\n",
        "\n",
        "The batched input tensors you see above will be passed into our model. On the other hand, we started off saying that our model will be a window classifier. The way our input tensors are currently formatted, we have all the words in a sentence in one datapoint. When we pass this input to our model, it needs to create the windows for each word, make a prediction as to whether the center word is a `LOCATION` or not for each window, put the predictions together and return.\n",
        "\n",
        "We could avoid this problem if we formatted our data by breaking it into windows beforehand. In this example, we will instead how our model take care of the formatting.\n",
        "\n",
        "Given that our window_size is `N` we want our model to make a prediction on every `2N+1` tokens. That is, if we have an input with `9` tokens, and a `window_size` of `2`, we want our model to return `5` predictions. This makes sense because before we padded it with `2` tokens on each side, our input also had `5` tokens in it!\n",
        "\n",
        "We can create these windows by using for loops, but there is a faster `PyTorch` alternative, which is the `unfold(dimension, size, step)` method. We can create the windows we need using this method as follows:\n"
      ],
      "metadata": {
        "id": "pURwpal6shYK"
      },
      "id": "pURwpal6shYK"
    },
    {
      "cell_type": "code",
      "source": [
        "# Print the original tensor\n",
        "print(f\"Original Tensor: \")\n",
        "print(batched_x)\n",
        "print(\"\")\n",
        "\n",
        "# Create the 2 * 2 + 1 chunks\n",
        "chunk = batched_x.unfold(1, window_size*2 + 1, 1)\n",
        "print(f\"Windows: \")\n",
        "print(chunk)"
      ],
      "metadata": {
        "id": "0_h8EBAVsvYZ",
        "outputId": "98ddc9fc-0fc6-4851-d16b-a4668e1e97af",
        "colab": {
          "base_uri": "https://localhost:8080/"
        }
      },
      "id": "0_h8EBAVsvYZ",
      "execution_count": 17,
      "outputs": [
        {
          "output_type": "stream",
          "name": "stdout",
          "text": [
            "Original Tensor: \n",
            "tensor([[ 0,  0, 19, 16, 12,  8,  4,  0,  0]])\n",
            "\n",
            "Windows: \n",
            "tensor([[[ 0,  0, 19, 16, 12],\n",
            "         [ 0, 19, 16, 12,  8],\n",
            "         [19, 16, 12,  8,  4],\n",
            "         [16, 12,  8,  4,  0],\n",
            "         [12,  8,  4,  0,  0]]])\n"
          ]
        }
      ]
    },
    {
      "cell_type": "markdown",
      "source": [
        "## Model\n",
        "\n",
        "Now that we have prepared our data, we are ready to build our model. We have learned how to write custom `nn.Module` classes. We will do the same here and put everything we have learned so far together.\n"
      ],
      "metadata": {
        "id": "bAjsk8jHs_UW"
      },
      "id": "bAjsk8jHs_UW"
    },
    {
      "cell_type": "code",
      "source": [
        "class WordWindowClassifier(nn.Module):\n",
        "\n",
        "  def __init__(self, hyperparameters, vocab_size, pad_ix=0):\n",
        "    super(WordWindowClassifier, self).__init__()\n",
        "    \n",
        "    \"\"\" Instance variables \"\"\"\n",
        "    self.window_size = hyperparameters[\"window_size\"]\n",
        "    self.embed_dim = hyperparameters[\"embed_dim\"]\n",
        "    self.hidden_dim = hyperparameters[\"hidden_dim\"]\n",
        "    self.freeze_embeddings = hyperparameters[\"freeze_embeddings\"]\n",
        "\n",
        "    \"\"\" Embedding Layer \n",
        "    Takes in a tensor containing embedding indices, and returns the \n",
        "    corresponding embeddings. The output is of dim \n",
        "    (number_of_indices * embedding_dim).\n",
        "\n",
        "    If freeze_embeddings is True, set the embedding layer parameters to be\n",
        "    non-trainable. This is useful if we only want the parameters other than the\n",
        "    embeddings parameters to change. \n",
        "\n",
        "    \"\"\"\n",
        "    self.embeds = nn.Embedding(vocab_size, self.embed_dim, padding_idx=pad_ix)\n",
        "    if self.freeze_embeddings:\n",
        "      self.embed_layer.weight.requires_grad = False\n",
        "\n",
        "    \"\"\" Hidden Layer\n",
        "    \"\"\"\n",
        "    full_window_size = 2 * window_size + 1\n",
        "    self.hidden_layer = nn.Sequential(\n",
        "      nn.Linear(full_window_size * self.embed_dim, self.hidden_dim), \n",
        "      nn.Tanh()\n",
        "    )\n",
        "\n",
        "    \"\"\" Output Layer\n",
        "    \"\"\"\n",
        "    self.output_layer = nn.Linear(self.hidden_dim, 1)\n",
        "\n",
        "    \"\"\" Probabilities \n",
        "    \"\"\"\n",
        "    self.probabilities = nn.Sigmoid()\n",
        "\n",
        "  def forward(self, inputs):\n",
        "    \"\"\"\n",
        "    Let B:= batch_size\n",
        "        L:= window-padded sentence length\n",
        "        D:= self.embed_dim\n",
        "        S:= self.window_size\n",
        "        H:= self.hidden_dim\n",
        "        \n",
        "    inputs: a (B, L) tensor of token indices\n",
        "    \"\"\"\n",
        "    B, L = inputs.size()\n",
        "\n",
        "    \"\"\"\n",
        "    Reshaping.\n",
        "    Takes in a (B, L) LongTensor\n",
        "    Outputs a (B, L~, S) LongTensor\n",
        "    \"\"\"\n",
        "    # Fist, get our word windows for each word in our input.\n",
        "    token_windows = inputs.unfold(1, 2 * self.window_size + 1, 1)\n",
        "    _, adjusted_length, _ = token_windows.size()\n",
        "\n",
        "    # Good idea to do internal tensor-size sanity checks, at the least in comments!\n",
        "    assert token_windows.size() == (B, adjusted_length, 2 * self.window_size + 1)\n",
        "\n",
        "    \"\"\"\n",
        "    Embedding.\n",
        "    Takes in a torch.LongTensor of size (B, L~, S) \n",
        "    Outputs a (B, L~, S, D) FloatTensor.\n",
        "    \"\"\"\n",
        "    embedded_windows = self.embeds(token_windows)\n",
        "\n",
        "    \"\"\"\n",
        "    Reshaping.\n",
        "    Takes in a (B, L~, S, D) FloatTensor.\n",
        "    Resizes it into a (B, L~, S*D) FloatTensor.\n",
        "    -1 argument \"infers\" what the last dimension should be based on leftover axes.\n",
        "    \"\"\"\n",
        "    embedded_windows = embedded_windows.view(B, adjusted_length, -1)\n",
        "\n",
        "    \"\"\"\n",
        "    Layer 1.\n",
        "    Takes in a (B, L~, S*D) FloatTensor.\n",
        "    Resizes it into a (B, L~, H) FloatTensor\n",
        "    \"\"\"\n",
        "    layer_1 = self.hidden_layer(embedded_windows)\n",
        "\n",
        "    \"\"\"\n",
        "    Layer 2\n",
        "    Takes in a (B, L~, H) FloatTensor.\n",
        "    Resizes it into a (B, L~, 1) FloatTensor.\n",
        "    \"\"\"\n",
        "    output = self.output_layer(layer_1)\n",
        "\n",
        "    \"\"\"\n",
        "    Softmax.\n",
        "    Takes in a (B, L~, 1) FloatTensor of unnormalized class scores.\n",
        "    Outputs a (B, L~, 1) FloatTensor of (log-)normalized class scores.\n",
        "    \"\"\"\n",
        "    output = self.probabilities(output)\n",
        "    output = output.view(B, -1)\n",
        "\n",
        "    return output"
      ],
      "metadata": {
        "id": "izE86VbVtElL"
      },
      "id": "izE86VbVtElL",
      "execution_count": 18,
      "outputs": []
    },
    {
      "cell_type": "markdown",
      "source": [
        "## Training\n",
        "\n",
        "We are now ready to put everything together. Let's start with preparing our data and intializing our model. We can then intialize our optimizer and define our loss function. This time, instead of using one of the predefined loss function as we did before, we will define our own loss function."
      ],
      "metadata": {
        "id": "6ldwZZHtt3vt"
      },
      "id": "6ldwZZHtt3vt"
    },
    {
      "cell_type": "code",
      "source": [
        "# Prepare the data\n",
        "data = list(zip(train_sentences, train_labels))\n",
        "batch_size = 2\n",
        "shuffle = True\n",
        "window_size = 2\n",
        "collate_fn = partial(custom_collate_fn, window_size=window_size, word_to_ix=word_to_ix)\n",
        "\n",
        "# Instantiate a DataLoader\n",
        "loader = DataLoader(data, batch_size=batch_size, shuffle=shuffle, collate_fn=collate_fn)\n",
        "\n",
        "# Initialize a model\n",
        "# It is useful to put all the model hyperparameters in a dictionary\n",
        "model_hyperparameters = {\n",
        "    \"batch_size\": 4,\n",
        "    \"window_size\": 2,\n",
        "    \"embed_dim\": 25,\n",
        "    \"hidden_dim\": 25,\n",
        "    \"freeze_embeddings\": False,\n",
        "}\n",
        "\n",
        "vocab_size = len(word_to_ix)\n",
        "model = WordWindowClassifier(model_hyperparameters, vocab_size)\n",
        "\n",
        "# Define an optimizer\n",
        "learning_rate = 0.01\n",
        "optimizer = torch.optim.SGD(model.parameters(), lr=learning_rate)\n",
        "\n",
        "# Define a loss function, which computes to binary cross entropy loss\n",
        "def loss_function(batch_outputs, batch_labels, batch_lengths):   \n",
        "    # Calculate the loss for the whole batch\n",
        "    bceloss = nn.BCELoss()\n",
        "    loss = bceloss(batch_outputs, batch_labels.float())\n",
        "\n",
        "    # Rescale the loss. Remember that we have used lengths to store the \n",
        "    # number of words in each training example\n",
        "    loss = loss / batch_lengths.sum().float()\n",
        "\n",
        "    return loss"
      ],
      "metadata": {
        "id": "P_ZaItfOt_r8"
      },
      "id": "P_ZaItfOt_r8",
      "execution_count": 19,
      "outputs": []
    },
    {
      "cell_type": "markdown",
      "source": [
        "Unlike our earlier example, this time instead of passing all of our training data to the model at once in each epoch, we will be utilizing batches. Hence, in each training epoch iteration, we also iterate over the batches."
      ],
      "metadata": {
        "id": "SOgJH-bwuPzi"
      },
      "id": "SOgJH-bwuPzi"
    },
    {
      "cell_type": "code",
      "source": [
        "# Function that will be called in every epoch\n",
        "def train_epoch(loss_function, optimizer, model, loader):\n",
        "  \n",
        "  # Keep track of the total loss for the batch\n",
        "  total_loss = 0\n",
        "  for batch_inputs, batch_labels, batch_lengths in loader:\n",
        "    # Clear the gradients\n",
        "    optimizer.zero_grad()\n",
        "    # Run a forward pass\n",
        "    outputs = model.forward(batch_inputs)\n",
        "    # Compute the batch loss\n",
        "    loss = loss_function(outputs, batch_labels, batch_lengths)\n",
        "    # Calculate the gradients\n",
        "    loss.backward()\n",
        "    # Update the parameteres\n",
        "    optimizer.step()\n",
        "    total_loss += loss.item()\n",
        "\n",
        "  return total_loss\n",
        "\n",
        "\n",
        "# Function containing our main training loop\n",
        "def train(loss_function, optimizer, model, loader, num_epochs=10000):\n",
        "\n",
        "  # Iterate through each epoch and call our train_epoch function\n",
        "  for epoch in range(num_epochs):\n",
        "    epoch_loss = train_epoch(loss_function, optimizer, model, loader)\n",
        "    if epoch % 100 == 0: print(epoch_loss)"
      ],
      "metadata": {
        "id": "tckjdugYuT56"
      },
      "id": "tckjdugYuT56",
      "execution_count": 20,
      "outputs": []
    },
    {
      "cell_type": "markdown",
      "source": [
        "Let's start training!"
      ],
      "metadata": {
        "id": "9C4VVCf5uWlc"
      },
      "id": "9C4VVCf5uWlc"
    },
    {
      "cell_type": "code",
      "source": [
        "num_epochs = 1000\n",
        "train(loss_function, optimizer, model, loader, num_epochs=num_epochs)"
      ],
      "metadata": {
        "id": "LcW4lXNmuYbX",
        "outputId": "e0a860e4-d208-46b0-e5d2-bc197dee7814",
        "colab": {
          "base_uri": "https://localhost:8080/"
        }
      },
      "id": "LcW4lXNmuYbX",
      "execution_count": 27,
      "outputs": [
        {
          "output_type": "stream",
          "name": "stdout",
          "text": [
            "0.030465245246887207\n",
            "0.028114418033510447\n",
            "0.028399111703038216\n",
            "0.021025738678872585\n",
            "0.01998789282515645\n",
            "0.016424374654889107\n",
            "0.01708269980736077\n",
            "0.014890458667650819\n",
            "0.013510618824511766\n",
            "0.011501384200528264\n"
          ]
        }
      ]
    },
    {
      "cell_type": "markdown",
      "source": [
        "## Prediction\n",
        "\n",
        "Let's see how well our model is at making predictions. We can start by creating our test data."
      ],
      "metadata": {
        "id": "8hGQRrVSueE9"
      },
      "id": "8hGQRrVSueE9"
    },
    {
      "cell_type": "code",
      "source": [
        "# Create test sentences\n",
        "test_corpus = [\"She comes to Lexington\"]\n",
        "test_sentences = [s.lower().split() for s in test_corpus]\n",
        "test_labels = [[0, 0, 0, 1]]\n",
        "\n",
        "# Create a test loader\n",
        "test_data = list(zip(test_sentences, test_labels))\n",
        "batch_size = 1\n",
        "shuffle = False\n",
        "window_size = 2\n",
        "collate_fn = partial(custom_collate_fn, window_size=2, word_to_ix=word_to_ix)\n",
        "test_loader = torch.utils.data.DataLoader(test_data, \n",
        "                                           batch_size=1, \n",
        "                                           shuffle=False, \n",
        "                                           collate_fn=collate_fn)"
      ],
      "metadata": {
        "id": "5-UAmIBGujA6"
      },
      "id": "5-UAmIBGujA6",
      "execution_count": 36,
      "outputs": []
    },
    {
      "cell_type": "markdown",
      "source": [
        "Let's loop over our test examples to see how well we are doing."
      ],
      "metadata": {
        "id": "04XqKZBWul98"
      },
      "id": "04XqKZBWul98"
    },
    {
      "cell_type": "code",
      "source": [
        "for test_instance, labels, _ in test_loader:\n",
        "  outputs = model.forward(test_instance)\n",
        "  print(labels)\n",
        "  print(outputs)"
      ],
      "metadata": {
        "id": "f_TksQhJuoHp",
        "outputId": "a84f2365-1734-49a9-ec43-fa659947e613",
        "colab": {
          "base_uri": "https://localhost:8080/"
        }
      },
      "id": "f_TksQhJuoHp",
      "execution_count": 37,
      "outputs": [
        {
          "output_type": "stream",
          "name": "stdout",
          "text": [
            "tensor([[0, 0, 0, 1]])\n",
            "tensor([[0.0509, 0.3055, 0.2939, 0.9031]], grad_fn=<ViewBackward0>)\n"
          ]
        }
      ]
    }
  ],
  "metadata": {
    "kernelspec": {
      "display_name": "cs224n",
      "language": "python",
      "name": "cs224n"
    },
    "language_info": {
      "codemirror_mode": {
        "name": "ipython",
        "version": 3
      },
      "file_extension": ".py",
      "mimetype": "text/x-python",
      "name": "python",
      "nbconvert_exporter": "python",
      "pygments_lexer": "ipython3",
      "version": "3.7.9"
    },
    "colab": {
      "name": "CS224N PyTorch Tutorial.ipynb",
      "provenance": [],
      "toc_visible": true,
      "include_colab_link": true
    }
  },
  "nbformat": 4,
  "nbformat_minor": 5
}